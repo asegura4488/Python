{
 "cells": [
  {
   "cell_type": "code",
   "execution_count": 1,
   "metadata": {},
   "outputs": [],
   "source": [
    "import numpy as np\n",
    "import matplotlib.pyplot as plt\n",
    "from scipy import stats"
   ]
  },
  {
   "cell_type": "code",
   "execution_count": 2,
   "metadata": {},
   "outputs": [],
   "source": [
    "N, p = 1,0.61\n",
    "binomial = stats.binom(N,p)"
   ]
  },
  {
   "cell_type": "code",
   "execution_count": 3,
   "metadata": {},
   "outputs": [
    {
     "name": "stdout",
     "output_type": "stream",
     "text": [
      "[[1 0 0 0 1 1 0 1 1 1 1 0]\n",
      " [1 0 1 1 0 0 1 1 0 1 1 1]\n",
      " [1 0 0 0 1 1 1 1 1 1 1 1]\n",
      " [1 1 1 1 0 1 1 1 1 1 1 1]\n",
      " [1 0 0 0 0 1 1 1 0 1 1 0]\n",
      " [1 0 1 0 0 1 1 0 1 0 1 1]\n",
      " [1 1 1 0 1 1 1 1 0 0 0 1]\n",
      " [0 0 0 0 0 0 1 0 0 1 0 1]\n",
      " [1 0 0 0 0 0 0 0 1 1 1 1]\n",
      " [0 0 0 1 1 1 0 1 1 1 1 1]\n",
      " [1 1 1 1 1 0 1 0 1 1 1 1]\n",
      " [1 1 1 0 1 1 1 1 1 1 0 0]\n",
      " [0 1 1 1 1 1 1 1 1 0 1 1]\n",
      " [1 0 1 1 1 1 0 1 1 1 0 1]\n",
      " [0 1 0 0 0 0 1 0 1 1 1 1]\n",
      " [1 0 1 1 1 0 1 0 1 1 0 0]\n",
      " [1 0 1 0 0 1 0 1 0 0 0 1]\n",
      " [0 0 1 1 0 0 0 1 1 0 0 1]\n",
      " [0 1 0 0 1 0 1 1 0 0 1 1]\n",
      " [0 0 1 0 1 1 1 0 0 0 1 1]\n",
      " [1 0 1 0 0 1 1 1 1 0 1 0]\n",
      " [1 1 1 0 1 1 1 1 1 1 1 0]\n",
      " [0 0 1 1 1 1 0 1 1 0 1 0]\n",
      " [1 0 1 0 1 1 1 1 0 1 1 1]\n",
      " [0 0 1 0 1 0 0 1 0 0 1 1]\n",
      " [1 0 1 1 1 0 1 1 0 0 1 0]\n",
      " [0 1 1 1 1 1 0 1 1 0 1 1]\n",
      " [1 1 1 0 1 1 0 1 0 0 0 0]\n",
      " [1 1 1 1 1 0 0 1 0 1 1 1]\n",
      " [1 0 1 1 1 1 0 0 1 1 1 1]]\n"
     ]
    }
   ],
   "source": [
    "Ntrials = 12\n",
    "NSamples = 30\n",
    "\n",
    "\n",
    "Matrix = []\n",
    "\n",
    "for i in range(NSamples):\n",
    "    Matrix.append(binomial.rvs(Ntrials)) \n",
    "\n",
    "Matrix = np.array(Matrix)\n",
    "    \n",
    "print(Matrix)"
   ]
  },
  {
   "cell_type": "code",
   "execution_count": 4,
   "metadata": {},
   "outputs": [
    {
     "name": "stdout",
     "output_type": "stream",
     "text": [
      "1.6448536269514722\n"
     ]
    }
   ],
   "source": [
    "# Z value from the confidence level\n",
    "\n",
    "\n",
    "Z = stats.norm(0,1).ppf(0.95)\n",
    "#Z = stats.norm(0,1).cdf(0.05)\n",
    "print(Z)"
   ]
  },
  {
   "cell_type": "code",
   "execution_count": 5,
   "metadata": {},
   "outputs": [
    {
     "name": "stdout",
     "output_type": "stream",
     "text": [
      "[0.58333333 0.66666667 0.75       0.91666667 0.5        0.58333333\n",
      " 0.66666667 0.25       0.41666667 0.66666667 0.83333333 0.75\n",
      " 0.83333333 0.75       0.5        0.58333333 0.41666667 0.41666667\n",
      " 0.5        0.5        0.58333333 0.83333333 0.58333333 0.75\n",
      " 0.41666667 0.58333333 0.75       0.5        0.75       0.75      ]\n"
     ]
    }
   ],
   "source": [
    "# calculamos la media muestral por columnas\n",
    "\n",
    "mean_ = np.zeros(NSamples)\n",
    "\n",
    "for i in range(NSamples):\n",
    "    mean_[i] = np.average(Matrix[i])\n",
    "    \n",
    "print(mean_)"
   ]
  },
  {
   "cell_type": "code",
   "execution_count": 6,
   "metadata": {},
   "outputs": [
    {
     "name": "stdout",
     "output_type": "stream",
     "text": [
      "[[0.35173584 0.81493083]\n",
      " [0.43506917 0.89826416]\n",
      " [0.51840251 0.98159749]\n",
      " [0.68506917 1.14826416]\n",
      " [0.26840251 0.73159749]\n",
      " [0.35173584 0.81493083]\n",
      " [0.43506917 0.89826416]\n",
      " [0.01840251 0.48159749]\n",
      " [0.18506917 0.64826416]\n",
      " [0.43506917 0.89826416]\n",
      " [0.60173584 1.06493083]\n",
      " [0.51840251 0.98159749]\n",
      " [0.60173584 1.06493083]\n",
      " [0.51840251 0.98159749]\n",
      " [0.26840251 0.73159749]\n",
      " [0.35173584 0.81493083]\n",
      " [0.18506917 0.64826416]\n",
      " [0.18506917 0.64826416]\n",
      " [0.26840251 0.73159749]\n",
      " [0.26840251 0.73159749]\n",
      " [0.35173584 0.81493083]\n",
      " [0.60173584 1.06493083]\n",
      " [0.35173584 0.81493083]\n",
      " [0.51840251 0.98159749]\n",
      " [0.18506917 0.64826416]\n",
      " [0.35173584 0.81493083]\n",
      " [0.51840251 0.98159749]\n",
      " [0.26840251 0.73159749]\n",
      " [0.51840251 0.98159749]\n",
      " [0.51840251 0.98159749]]\n"
     ]
    }
   ],
   "source": [
    "# Ahora calculamos el invervalo de confianza\n",
    "\n",
    "Intervalo = np.zeros((NSamples,2))\n",
    "\n",
    "\n",
    "for i in range(NSamples):\n",
    "    Intervalo[i][0] = mean_[i] - Z*np.sqrt(p*(1-p)/Ntrials)\n",
    "    Intervalo[i][1] = mean_[i] + Z*np.sqrt(p*(1-p)/Ntrials)\n",
    "    \n",
    "print(Intervalo)"
   ]
  },
  {
   "cell_type": "code",
   "execution_count": 7,
   "metadata": {},
   "outputs": [
    {
     "name": "stdout",
     "output_type": "stream",
     "text": [
      "0.933333333333\n"
     ]
    }
   ],
   "source": [
    "# Vamos a verificar que el 95 de las veces el valor 0.61 está contenido en el intervalo\n",
    "\n",
    "count = 0\n",
    "\n",
    "for i in range(NSamples):\n",
    "    \n",
    "    if Intervalo[i][0] < p and Intervalo[i][1] > p:\n",
    "        count += 1\n",
    "        \n",
    "print(float(count)/float(NSamples))"
   ]
  },
  {
   "cell_type": "code",
   "execution_count": null,
   "metadata": {},
   "outputs": [],
   "source": []
  }
 ],
 "metadata": {
  "kernelspec": {
   "display_name": "Python 3",
   "language": "python",
   "name": "python3"
  },
  "language_info": {
   "codemirror_mode": {
    "name": "ipython",
    "version": 2
   },
   "file_extension": ".py",
   "mimetype": "text/x-python",
   "name": "python",
   "nbconvert_exporter": "python",
   "pygments_lexer": "ipython2",
   "version": "2.7.16"
  }
 },
 "nbformat": 4,
 "nbformat_minor": 2
}
