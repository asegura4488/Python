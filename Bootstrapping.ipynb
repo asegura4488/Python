{
 "cells": [
  {
   "cell_type": "code",
   "execution_count": 1,
   "id": "cbe72c43",
   "metadata": {},
   "outputs": [],
   "source": [
    "import numpy as np\n",
    "import matplotlib.pyplot as plt\n",
    "import random"
   ]
  },
  {
   "cell_type": "code",
   "execution_count": 2,
   "id": "c753c01d",
   "metadata": {},
   "outputs": [],
   "source": [
    "random.seed(1235)"
   ]
  },
  {
   "cell_type": "code",
   "execution_count": 3,
   "id": "156bf580",
   "metadata": {},
   "outputs": [],
   "source": [
    "data = [6.,5.,6.5,5.0,4,5,5,5,7.0,5.5,4.5,6.0,5.0,6.0,6.0,5.0,4.5]\n",
    "data1 = [7.,8.,8.5,7.4,8.9,6.7,9.0,8.4,7.8,5.3,8.1]"
   ]
  },
  {
   "cell_type": "code",
   "execution_count": 4,
   "id": "ac1b5f3f",
   "metadata": {},
   "outputs": [
    {
     "name": "stdout",
     "output_type": "stream",
     "text": [
      "5.352941176470588 7.736363636363635 28\n"
     ]
    }
   ],
   "source": [
    "print(np.mean(data), np.mean(data1), len(data+data1))"
   ]
  },
  {
   "cell_type": "code",
   "execution_count": 5,
   "id": "f2d13a39",
   "metadata": {},
   "outputs": [],
   "source": [
    "def Boot(sample):\n",
    "    resample = random.choices(sample, k=len(sample))\n",
    "    mean = np.mean(resample)\n",
    "    return mean"
   ]
  },
  {
   "cell_type": "code",
   "execution_count": 6,
   "id": "3ea40dbb",
   "metadata": {},
   "outputs": [],
   "source": [
    "meanlist = []\n",
    "meanlist2 = []\n",
    "\n",
    "Ntrials = 1000\n",
    "\n",
    "for i in range(Ntrials):\n",
    "    x = Boot(data)\n",
    "    y = Boot(data1)\n",
    "    meanlist.append(x)\n",
    "    meanlist2.append(y)"
   ]
  },
  {
   "cell_type": "code",
   "execution_count": 7,
   "id": "41b84fcb",
   "metadata": {},
   "outputs": [
    {
     "data": {
      "text/plain": [
       "(array([  1.,   7.,  22.,  65., 162., 231., 261., 177.,  61.,  13.]),\n",
       " array([6.52727273, 6.73181818, 6.93636364, 7.14090909, 7.34545455,\n",
       "        7.55      , 7.75454545, 7.95909091, 8.16363636, 8.36818182,\n",
       "        8.57272727]),\n",
       " <a list of 10 Patch objects>)"
      ]
     },
     "execution_count": 7,
     "metadata": {},
     "output_type": "execute_result"
    },
    {
     "data": {
      "image/png": "[encoded data removed]",
      "text/plain": [
       "<Figure size 432x288 with 1 Axes>"
      ]
     },
     "metadata": {
      "needs_background": "light"
     },
     "output_type": "display_data"
    }
   ],
   "source": [
    "plt.hist(meanlist,color='b')\n",
    "plt.hist(meanlist2,color='r')"
   ]
  },
  {
   "cell_type": "code",
   "execution_count": 8,
   "id": "a7919f5c",
   "metadata": {},
   "outputs": [],
   "source": [
    "def GetInterval(List, NTrials, CL = 0.95):\n",
    "    \n",
    "    List.sort()\n",
    "    \n",
    "    #For two-side band confidence level we have\n",
    "    \n",
    "    ii = int( NTrials * (( 1. - CL )/2.) )\n",
    "       \n",
    "    print('The Lower limit at 95% of confidence level:', List[ii])\n",
    "    print('The Upper limit at 95% of confidence level:', List[-ii])\n",
    "    print('Central Values is:', np.percentile(List,50))\n",
    "    \n",
    "    lower = List[ii]\n",
    "    upper = List[-ii]\n",
    "    \n",
    "    return lower,upper"
   ]
  },
  {
   "cell_type": "code",
   "execution_count": 9,
   "id": "9f73927a",
   "metadata": {},
   "outputs": [
    {
     "name": "stdout",
     "output_type": "stream",
     "text": [
      "The Lower limit at 95% of confidence level: 4.970588235294118\n",
      "The Upper limit at 95% of confidence level: 5.735294117647059\n",
      "Central Values is: 5.352941176470588\n",
      "The Lower limit at 95% of confidence level: 7.118181818181819\n",
      "The Upper limit at 95% of confidence level: 8.336363636363636\n",
      "Central Values is: 7.763636363636365\n"
     ]
    },
    {
     "data": {
      "text/plain": [
       "(7.118181818181819, 8.336363636363636)"
      ]
     },
     "execution_count": 9,
     "metadata": {},
     "output_type": "execute_result"
    }
   ],
   "source": [
    "GetInterval(meanlist, Ntrials)\n",
    "GetInterval(meanlist2, Ntrials)"
   ]
  },
  {
   "cell_type": "code",
   "execution_count": 10,
   "id": "a9e254a2",
   "metadata": {},
   "outputs": [],
   "source": [
    "data = [3,7,25,10,15,6,12,25,15,7]\n",
    "data1 = [48,44,40,38,33,21,20,12,1,18]"
   ]
  },
  {
   "cell_type": "markdown",
   "id": "07a68833",
   "metadata": {},
   "source": [
    "# Ahora vamos a hacerlo para las diferencias"
   ]
  },
  {
   "cell_type": "code",
   "execution_count": 11,
   "id": "38a7113f",
   "metadata": {},
   "outputs": [
    {
     "name": "stdout",
     "output_type": "stream",
     "text": [
      "10 10 20 -15.0\n"
     ]
    }
   ],
   "source": [
    "NSamples = int(1e6)\n",
    "\n",
    "diff1 = np.zeros(NSamples)\n",
    "diff2 = np.zeros(NSamples)\n",
    "\n",
    "# Longitud de cada array\n",
    "n1 = len(data)\n",
    "n2 = len(data1)\n",
    "\n",
    "\n",
    "# Sumamos ambos set de datos\n",
    "#Total = np.array( data + data1 )\n",
    "Total = np.hstack((data,data1))\n",
    "\n",
    "obsdiff = np.mean(data)-np.mean(data1)\n",
    "\n",
    "\n",
    "print(n1,n2,len(Total),obsdiff)"
   ]
  },
  {
   "cell_type": "code",
   "execution_count": null,
   "id": "6c7a8738",
   "metadata": {},
   "outputs": [],
   "source": [
    "for i in range(NSamples):\n",
    "    \n",
    "    Re1 = np.random.choice(data, size=n1,replace=True)\n",
    "    Re2 = np.random.choice(data1, size=n2,replace=True)\n",
    "    \n",
    "    mean1 = np.mean(Re1)\n",
    "    mean2 = np.mean(Re2)\n",
    "    \n",
    "    diff1[i] = mean1 - mean2\n",
    "    \n",
    "    ReTotal = np.random.choice(Total, size=n1+n2,replace=True)\n",
    "    \n",
    "    TestA = ReTotal[:n1]\n",
    "    TestB = ReTotal[n1:]\n",
    "        \n",
    "    diff2[i] =  np.mean(TestA) - np.mean(TestB)      "
   ]
  },
  {
   "cell_type": "code",
   "execution_count": null,
   "id": "bd88c22a",
   "metadata": {},
   "outputs": [],
   "source": [
    "\n",
    "    \n",
    "   \n"
   ]
  },
  {
   "cell_type": "code",
   "execution_count": null,
   "id": "af72c631",
   "metadata": {},
   "outputs": [],
   "source": []
  },
  {
   "cell_type": "code",
   "execution_count": null,
   "id": "e996783f",
   "metadata": {},
   "outputs": [],
   "source": []
  },
  {
   "cell_type": "code",
   "execution_count": null,
   "id": "9284d612",
   "metadata": {},
   "outputs": [],
   "source": [
    "l1,u1 = GetInterval(diff1, NSamples)\n",
    "l2,u2 = GetInterval(diff2, NSamples)"
   ]
  },
  {
   "cell_type": "code",
   "execution_count": null,
   "id": "b28628d9",
   "metadata": {},
   "outputs": [],
   "source": []
  },
  {
   "cell_type": "code",
   "execution_count": null,
   "id": "97082192",
   "metadata": {},
   "outputs": [],
   "source": [
    "plt.hist(diff1,color='b', bins=50,alpha = 0.5)\n",
    "plt.axvline(x=obsdiff,color='r',label='diferencia observada')\n",
    "plt.axvline(x=l1,color='k',linestyle='--',label='CL 95%')\n",
    "plt.axvline(x=u1,color='k',linestyle='--')\n",
    "plt.legend()"
   ]
  },
  {
   "cell_type": "code",
   "execution_count": null,
   "id": "bd0a7764",
   "metadata": {},
   "outputs": [],
   "source": [
    "plt.hist(diff2,color='b', bins=50,alpha = 0.5)\n",
    "plt.axvline(x=np.mean(diff1),color='r',label='diferencia observada')\n",
    "plt.axvline(x=-np.mean(diff1),color='r')\n",
    "plt.legend()"
   ]
  },
  {
   "cell_type": "code",
   "execution_count": null,
   "id": "022f5de6",
   "metadata": {},
   "outputs": [],
   "source": [
    "pvalue = ( sum(np.abs(diff2) > np.abs(np.mean(diff1)) ) )/len(diff2)\n",
    "print(pvalue)"
   ]
  },
  {
   "cell_type": "code",
   "execution_count": null,
   "id": "9f9bb4e0",
   "metadata": {},
   "outputs": [],
   "source": []
  },
  {
   "cell_type": "code",
   "execution_count": null,
   "id": "989afb03",
   "metadata": {},
   "outputs": [],
   "source": []
  }
 ],
 "metadata": {
  "kernelspec": {
   "display_name": "Python 3",
   "language": "python",
   "name": "python3"
  },
  "language_info": {
   "codemirror_mode": {
    "name": "ipython",
    "version": 3
   },
   "file_extension": ".py",
   "mimetype": "text/x-python",
   "name": "python",
   "nbconvert_exporter": "python",
   "pygments_lexer": "ipython3",
   "version": "3.8.2"
  }
 },
 "nbformat": 4,
 "nbformat_minor": 5
}
