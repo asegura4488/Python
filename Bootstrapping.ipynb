{
 "cells": [
  {
   "cell_type": "code",
   "execution_count": 1,
   "id": "4f7fb29d",
   "metadata": {},
   "outputs": [],
   "source": [
    "import numpy as np\n",
    "import matplotlib.pyplot as plt\n",
    "import random"
   ]
  },
  {
   "cell_type": "code",
   "execution_count": 2,
   "id": "dfe8961c",
   "metadata": {},
   "outputs": [],
   "source": [
    "random.seed(1235)"
   ]
  },
  {
   "cell_type": "code",
   "execution_count": 3,
   "id": "dbed6024",
   "metadata": {},
   "outputs": [],
   "source": [
    "data = [6.,5.,6.5,5.0,4,5,5,5,7.0,5.5,4.5,6.0,5.0,6.0,6.0,5.0,4.5]\n",
    "data1 = [7.,8.,8.5,7.4,8.9,6.7,9.0,8.4,7.8,5.3,8.1]"
   ]
  },
  {
   "cell_type": "code",
   "execution_count": 4,
   "id": "0525f14a",
   "metadata": {},
   "outputs": [
    {
     "name": "stdout",
     "output_type": "stream",
     "text": [
      "5.352941176470588 7.736363636363635 28\n"
     ]
    }
   ],
   "source": [
    "print(np.mean(data), np.mean(data1), len(data+data1))"
   ]
  },
  {
   "cell_type": "code",
   "execution_count": 5,
   "id": "0a443b47",
   "metadata": {},
   "outputs": [],
   "source": [
    "def Boot(sample):\n",
    "    resample = random.choices(sample, k=len(sample))\n",
    "    mean = np.mean(resample)\n",
    "    return mean"
   ]
  },
  {
   "cell_type": "code",
   "execution_count": 6,
   "id": "1d38040c",
   "metadata": {},
   "outputs": [],
   "source": [
    "meanlist = []\n",
    "meanlist2 = []\n",
    "\n",
    "Ntrials = 1000\n",
    "\n",
    "for i in range(Ntrials):\n",
    "    x = Boot(data)\n",
    "    y = Boot(data1)\n",
    "    meanlist.append(x)\n",
    "    meanlist2.append(y)"
   ]
  },
  {
   "cell_type": "code",
   "execution_count": 7,
   "id": "2349d4bf",
   "metadata": {},
   "outputs": [
    {
     "data": {
      "text/plain": [
       "(array([  1.,   7.,  22.,  65., 162., 231., 261., 177.,  61.,  13.]),\n",
       " array([6.52727273, 6.73181818, 6.93636364, 7.14090909, 7.34545455,\n",
       "        7.55      , 7.75454545, 7.95909091, 8.16363636, 8.36818182,\n",
       "        8.57272727]),\n",
       " <a list of 10 Patch objects>)"
      ]
     },
     "execution_count": 7,
     "metadata": {},
     "output_type": "execute_result"
    },
    {
     "data": {
      "image/png": "[encoded data removed]",
      "text/plain": [
       "<Figure size 432x288 with 1 Axes>"
      ]
     },
     "metadata": {
      "needs_background": "light"
     },
     "output_type": "display_data"
    }
   ],
   "source": [
    "plt.hist(meanlist,color='b')\n",
    "plt.hist(meanlist2,color='r')"
   ]
  },
  {
   "cell_type": "code",
   "execution_count": 8,
   "id": "f42325ab",
   "metadata": {},
   "outputs": [],
   "source": [
    "def GetInterval(List, CL = 0.95):\n",
    "    \n",
    "    List.sort()\n",
    "    \n",
    "    #For two-side band confidence level we have\n",
    "    \n",
    "    \n",
    "    ii = int(len(List)/100 * ( 1. - CL )/2.)\n",
    "    \n",
    "    print('The Lower limit at 95% of confidence level:', List[ii])\n",
    "    print('The Upper limit at 95% of confidence level:', List[-ii])\n",
    "    print('Central Values is:', np.percentile(List,50))"
   ]
  },
  {
   "cell_type": "code",
   "execution_count": 9,
   "id": "fc9bbb1b",
   "metadata": {},
   "outputs": [
    {
     "name": "stdout",
     "output_type": "stream",
     "text": [
      "The Lower limit at 95% of confidence level: 4.823529411764706\n",
      "The Upper limit at 95% of confidence level: 4.823529411764706\n",
      "Central Values is: 5.352941176470588\n",
      "The Lower limit at 95% of confidence level: 6.527272727272728\n",
      "The Upper limit at 95% of confidence level: 6.527272727272728\n",
      "Central Values is: 7.763636363636365\n"
     ]
    }
   ],
   "source": [
    "GetInterval(meanlist)\n",
    "GetInterval(meanlist2)"
   ]
  },
  {
   "cell_type": "code",
   "execution_count": null,
   "id": "e84502f7",
   "metadata": {},
   "outputs": [],
   "source": []
  },
  {
   "cell_type": "markdown",
   "id": "79277611",
   "metadata": {},
   "source": [
    "# Ahora vamos a hacerlo para las diferencias"
   ]
  },
  {
   "cell_type": "code",
   "execution_count": 13,
   "id": "8d28aa9e",
   "metadata": {},
   "outputs": [],
   "source": [
    "NSamples = 10000\n",
    "\n",
    "diff = np.zeros(NSamples)\n",
    "\n",
    "# Longitud de cada array\n",
    "n1 = len(data)\n",
    "n2 = len(data1)\n",
    "\n",
    "# Sumamos ambos set de datos\n",
    "Total = np.array( data + data1 )"
   ]
  },
  {
   "cell_type": "code",
   "execution_count": 14,
   "id": "db1ff596",
   "metadata": {},
   "outputs": [],
   "source": [
    "for i in range(NSamples):\n",
    "    \n",
    "    np.random.shuffle(Total)\n",
    "    \n",
    "    TestA = Total[:n1]\n",
    "    TestB = Total[n2:]\n",
    "    \n",
    "    diff[i] = np.mean(TestA) - np.mean(TestB)"
   ]
  },
  {
   "cell_type": "code",
   "execution_count": 15,
   "id": "0d450b34",
   "metadata": {},
   "outputs": [
    {
     "data": {
      "text/plain": [
       "(array([  15.,  119.,  621., 1584., 2564., 2564., 1707.,  667.,  136.,\n",
       "          23.]),\n",
       " array([-1.47647059, -1.18294118, -0.88941176, -0.59588235, -0.30235294,\n",
       "        -0.00882353,  0.28470588,  0.57823529,  0.87176471,  1.16529412,\n",
       "         1.45882353]),\n",
       " <a list of 10 Patch objects>)"
      ]
     },
     "execution_count": 15,
     "metadata": {},
     "output_type": "execute_result"
    },
    {
     "data": {
      "image/png": "[encoded data removed]",
      "text/plain": [
       "<Figure size 432x288 with 1 Axes>"
      ]
     },
     "metadata": {
      "needs_background": "light"
     },
     "output_type": "display_data"
    }
   ],
   "source": [
    "plt.hist(diff,color='b')"
   ]
  },
  {
   "cell_type": "code",
   "execution_count": 16,
   "id": "29128cc8",
   "metadata": {},
   "outputs": [
    {
     "name": "stdout",
     "output_type": "stream",
     "text": [
      "The Lower limit at 95% of confidence level: -1.4294117647058817\n",
      "The Upper limit at 95% of confidence level: 1.4470588235294128\n",
      "Central Values is: 4.440892098500626e-16\n"
     ]
    }
   ],
   "source": [
    "GetInterval(diff)"
   ]
  },
  {
   "cell_type": "code",
   "execution_count": null,
   "id": "b2e48971",
   "metadata": {},
   "outputs": [],
   "source": []
  }
 ],
 "metadata": {
  "kernelspec": {
   "display_name": "Python 3",
   "language": "python",
   "name": "python3"
  },
  "language_info": {
   "codemirror_mode": {
    "name": "ipython",
    "version": 3
   },
   "file_extension": ".py",
   "mimetype": "text/x-python",
   "name": "python",
   "nbconvert_exporter": "python",
   "pygments_lexer": "ipython3",
   "version": "3.8.2"
  }
 },
 "nbformat": 4,
 "nbformat_minor": 5
}
