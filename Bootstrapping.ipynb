{
 "cells": [
  {
   "cell_type": "code",
   "execution_count": 1,
   "id": "6a505882",
   "metadata": {},
   "outputs": [],
   "source": [
    "import numpy as np\n",
    "import matplotlib.pyplot as plt\n",
    "import random"
   ]
  },
  {
   "cell_type": "code",
   "execution_count": 2,
   "id": "5ba638a2",
   "metadata": {},
   "outputs": [],
   "source": [
    "random.seed(1235)"
   ]
  },
  {
   "cell_type": "code",
   "execution_count": 3,
   "id": "13a396da",
   "metadata": {},
   "outputs": [],
   "source": [
    "data = [6.,5.,6.5,5.0,4,5,5,5,7.0,5.5,4.5,6.0,5.0,6.0,6.0,5.0,4.5]\n",
    "data1 = [7.,8.,8.5,7.4,8.9,6.7,9.0,8.4,7.8,5.3,8.1]"
   ]
  },
  {
   "cell_type": "code",
   "execution_count": 4,
   "id": "a4e4dd02",
   "metadata": {},
   "outputs": [
    {
     "name": "stdout",
     "output_type": "stream",
     "text": [
      "5.352941176470588 7.736363636363635 28\n"
     ]
    }
   ],
   "source": [
    "print(np.mean(data), np.mean(data1), len(data+data1))"
   ]
  },
  {
   "cell_type": "code",
   "execution_count": 5,
   "id": "80f735e2",
   "metadata": {},
   "outputs": [],
   "source": [
    "def Boot(sample):\n",
    "    resample = random.choices(sample, k=len(sample))\n",
    "    mean = np.mean(resample)\n",
    "    return mean"
   ]
  },
  {
   "cell_type": "code",
   "execution_count": 6,
   "id": "847a426c",
   "metadata": {},
   "outputs": [],
   "source": [
    "meanlist = []\n",
    "meanlist2 = []\n",
    "\n",
    "Ntrials = 1000\n",
    "\n",
    "for i in range(Ntrials):\n",
    "    x = Boot(data)\n",
    "    y = Boot(data1)\n",
    "    meanlist.append(x)\n",
    "    meanlist2.append(y)"
   ]
  },
  {
   "cell_type": "code",
   "execution_count": 7,
   "id": "b6d0118f",
   "metadata": {},
   "outputs": [
    {
     "data": {
      "text/plain": [
       "(array([  1.,   7.,  22.,  65., 162., 231., 261., 177.,  61.,  13.]),\n",
       " array([6.52727273, 6.73181818, 6.93636364, 7.14090909, 7.34545455,\n",
       "        7.55      , 7.75454545, 7.95909091, 8.16363636, 8.36818182,\n",
       "        8.57272727]),\n",
       " <a list of 10 Patch objects>)"
      ]
     },
     "execution_count": 7,
     "metadata": {},
     "output_type": "execute_result"
    },
    {
     "data": {
      "image/png": "[encoded data removed]",
      "text/plain": [
       "<Figure size 432x288 with 1 Axes>"
      ]
     },
     "metadata": {
      "needs_background": "light"
     },
     "output_type": "display_data"
    }
   ],
   "source": [
    "plt.hist(meanlist,color='b')\n",
    "plt.hist(meanlist2,color='r')"
   ]
  },
  {
   "cell_type": "code",
   "execution_count": 8,
   "id": "703d7c57",
   "metadata": {},
   "outputs": [],
   "source": [
    "def GetInterval(List, NTrials, CL = 0.95):\n",
    "    \n",
    "    List.sort()\n",
    "    \n",
    "    #For two-side band confidence level we have\n",
    "    \n",
    "    ii = int( NTrials * (( 1. - CL )/2.) )\n",
    "       \n",
    "    print('The Lower limit at 95% of confidence level:', List[ii])\n",
    "    print('The Upper limit at 95% of confidence level:', List[-ii])\n",
    "    print('Central Values is:', np.percentile(List,50))"
   ]
  },
  {
   "cell_type": "code",
   "execution_count": 9,
   "id": "9c5ecd74",
   "metadata": {},
   "outputs": [
    {
     "name": "stdout",
     "output_type": "stream",
     "text": [
      "The Lower limit at 95% of confidence level: 4.970588235294118\n",
      "The Upper limit at 95% of confidence level: 5.735294117647059\n",
      "Central Values is: 5.352941176470588\n",
      "The Lower limit at 95% of confidence level: 7.118181818181819\n",
      "The Upper limit at 95% of confidence level: 8.336363636363636\n",
      "Central Values is: 7.763636363636365\n"
     ]
    }
   ],
   "source": [
    "GetInterval(meanlist, Ntrials)\n",
    "GetInterval(meanlist2, Ntrials)"
   ]
  },
  {
   "cell_type": "code",
   "execution_count": 10,
   "id": "a70c7bed",
   "metadata": {},
   "outputs": [],
   "source": [
    "data = [3,7,25,10,15,6,12,25,15,7]\n",
    "data1 = [48,44,40,38,33,21,20,12,1,18]"
   ]
  },
  {
   "cell_type": "markdown",
   "id": "9855bd5f",
   "metadata": {},
   "source": [
    "# Ahora vamos a hacerlo para las diferencias"
   ]
  },
  {
   "cell_type": "code",
   "execution_count": 11,
   "id": "fdff0def",
   "metadata": {},
   "outputs": [
    {
     "name": "stdout",
     "output_type": "stream",
     "text": [
      "10 10 20 -15.0\n"
     ]
    }
   ],
   "source": [
    "NSamples = int(1e5)\n",
    "\n",
    "diff1 = np.zeros(NSamples)\n",
    "diff2 = np.zeros(NSamples)\n",
    "\n",
    "# Longitud de cada array\n",
    "n1 = len(data)\n",
    "n2 = len(data1)\n",
    "\n",
    "# Sumamos ambos set de datos\n",
    "Total = np.array( data + data1 )\n",
    "\n",
    "print(n1,n2,len(Total),np.mean(data)-np.mean(data1))"
   ]
  },
  {
   "cell_type": "code",
   "execution_count": 12,
   "id": "aa94ddef",
   "metadata": {},
   "outputs": [],
   "source": [
    "for i in range(NSamples):\n",
    "    \n",
    "    Re1 = np.random.choice(data, size=n1,replace=True)\n",
    "    Re2 = np.random.choice(data1, size=n2,replace=True)\n",
    "    \n",
    "    mean1 = np.mean(Re1)\n",
    "    mean2 = np.mean(Re2)\n",
    "    \n",
    "    diff1[i] = mean1 - mean2"
   ]
  },
  {
   "cell_type": "code",
   "execution_count": 13,
   "id": "93875182",
   "metadata": {},
   "outputs": [],
   "source": [
    "for i in range(NSamples):\n",
    "    \n",
    "    ReTotal = np.random.choice(Total, size=n1+n2,replace=True)\n",
    "    \n",
    "    TestA = ReTotal[:n1]\n",
    "    TestB = ReTotal[n1:]\n",
    "        \n",
    "    diff2[i] =  np.mean(TestA) - np.mean(TestB)  "
   ]
  },
  {
   "cell_type": "code",
   "execution_count": 14,
   "id": "2cfe803f",
   "metadata": {},
   "outputs": [
    {
     "data": {
      "text/plain": [
       "(array([2.1000e+01, 6.3500e+02, 5.4480e+03, 1.9165e+04, 3.2333e+04,\n",
       "        2.7150e+04, 1.2162e+04, 2.7380e+03, 3.3200e+02, 1.6000e+01]),\n",
       " array([-36.  , -31.61, -27.22, -22.83, -18.44, -14.05,  -9.66,  -5.27,\n",
       "         -0.88,   3.51,   7.9 ]),\n",
       " <a list of 10 Patch objects>)"
      ]
     },
     "execution_count": 14,
     "metadata": {},
     "output_type": "execute_result"
    },
    {
     "data": {
      "image/png": "[encoded data removed]",
      "text/plain": [
       "<Figure size 432x288 with 1 Axes>"
      ]
     },
     "metadata": {
      "needs_background": "light"
     },
     "output_type": "display_data"
    }
   ],
   "source": [
    "plt.hist(diff1,color='b')"
   ]
  },
  {
   "cell_type": "code",
   "execution_count": 15,
   "id": "ee4c6530",
   "metadata": {},
   "outputs": [
    {
     "data": {
      "text/plain": [
       "(array([5.0000e+00, 1.8300e+02, 2.3700e+03, 1.2997e+04, 3.0880e+04,\n",
       "        3.3705e+04, 1.5999e+04, 3.5330e+03, 3.1700e+02, 1.1000e+01]),\n",
       " array([-29. , -23.3, -17.6, -11.9,  -6.2,  -0.5,   5.2,  10.9,  16.6,\n",
       "         22.3,  28. ]),\n",
       " <a list of 10 Patch objects>)"
      ]
     },
     "execution_count": 15,
     "metadata": {},
     "output_type": "execute_result"
    },
    {
     "data": {
      "image/png": "[encoded data removed]",
      "text/plain": [
       "<Figure size 432x288 with 1 Axes>"
      ]
     },
     "metadata": {
      "needs_background": "light"
     },
     "output_type": "display_data"
    }
   ],
   "source": [
    "plt.hist(diff2,color='b')"
   ]
  },
  {
   "cell_type": "code",
   "execution_count": 16,
   "id": "b93e3985",
   "metadata": {},
   "outputs": [
    {
     "name": "stdout",
     "output_type": "stream",
     "text": [
      "The Lower limit at 95% of confidence level: -24.9\n",
      "The Upper limit at 95% of confidence level: -4.700000000000001\n",
      "Central Values is: -15.000000000000002\n",
      "The Lower limit at 95% of confidence level: -11.900000000000002\n",
      "The Upper limit at 95% of confidence level: 12.0\n",
      "Central Values is: 0.0\n"
     ]
    }
   ],
   "source": [
    "GetInterval(diff1, NSamples)\n",
    "GetInterval(diff2, NSamples)"
   ]
  },
  {
   "cell_type": "code",
   "execution_count": null,
   "id": "8c207d1a",
   "metadata": {},
   "outputs": [],
   "source": []
  },
  {
   "cell_type": "code",
   "execution_count": null,
   "id": "95a7051c",
   "metadata": {},
   "outputs": [],
   "source": []
  }
 ],
 "metadata": {
  "kernelspec": {
   "display_name": "Python 3",
   "language": "python",
   "name": "python3"
  },
  "language_info": {
   "codemirror_mode": {
    "name": "ipython",
    "version": 3
   },
   "file_extension": ".py",
   "mimetype": "text/x-python",
   "name": "python",
   "nbconvert_exporter": "python",
   "pygments_lexer": "ipython3",
   "version": "3.8.2"
  }
 },
 "nbformat": 4,
 "nbformat_minor": 5
}
