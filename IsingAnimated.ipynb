{
 "cells": [
  {
   "cell_type": "code",
   "execution_count": 25,
   "metadata": {},
   "outputs": [],
   "source": [
    "import numpy as np\n",
    "from PIL import Image\n",
    "import matplotlib.pyplot as plt"
   ]
  },
  {
   "cell_type": "code",
   "execution_count": 17,
   "metadata": {},
   "outputs": [
    {
     "data": {
      "text/plain": [
       "array([[ 1, -1,  1,  1, -1,  1,  1, -1,  1, -1],\n",
       "       [-1, -1, -1,  1,  1,  1, -1, -1, -1,  1],\n",
       "       [-1,  1, -1,  1,  1, -1, -1, -1, -1,  1],\n",
       "       [ 1,  1,  1, -1, -1, -1,  1,  1, -1,  1],\n",
       "       [-1,  1,  1,  1,  1, -1,  1, -1,  1, -1],\n",
       "       [-1,  1, -1,  1, -1, -1,  1,  1, -1, -1],\n",
       "       [-1,  1, -1,  1,  1,  1,  1, -1, -1, -1],\n",
       "       [-1, -1, -1,  1, -1, -1,  1,  1, -1,  1],\n",
       "       [-1, -1, -1,  1, -1,  1, -1,  1, -1, -1],\n",
       "       [ 1, -1,  1, -1,  1,  1,  1, -1,  1,  1]])"
      ]
     },
     "execution_count": 17,
     "metadata": {},
     "output_type": "execute_result"
    }
   ],
   "source": [
    "def random_spin_field(N,M):\n",
    "    return np.random.choice([-1,1], size=(N,M))\n",
    "\n",
    "random_spin_field(10,10)"
   ]
  },
  {
   "cell_type": "code",
   "execution_count": 18,
   "metadata": {},
   "outputs": [
    {
     "data": {
      "image/png": "[encoded data removed]",
      "text/plain": [
       "<PIL.Image.Image image mode=L size=100x100 at 0x7F8C9548E3D0>"
      ]
     },
     "execution_count": 18,
     "metadata": {},
     "output_type": "execute_result"
    }
   ],
   "source": [
    "def display_spin_field(field):\n",
    "    return Image.fromarray(np.uint8((field+1) * 0.5 * 255))\n",
    "\n",
    "display_spin_field(random_spin_field(100,100))"
   ]
  },
  {
   "cell_type": "code",
   "execution_count": 19,
   "metadata": {},
   "outputs": [],
   "source": [
    "def ising_step(field, beta = 0.4407):\n",
    "    \n",
    "    N, M = field.shape\n",
    "    \n",
    "    for n_offset in range(2):\n",
    "        for m_offset in range(2):\n",
    "            for n in range(n_offset,N,2):\n",
    "                for m in range(m_offset, M, 2):\n",
    "                    _ising_update(field,n,m,beta)\n",
    "    return field"
   ]
  },
  {
   "cell_type": "code",
   "execution_count": 20,
   "metadata": {},
   "outputs": [],
   "source": [
    "Magnetization = []"
   ]
  },
  {
   "cell_type": "code",
   "execution_count": 33,
   "metadata": {},
   "outputs": [],
   "source": [
    "def _ising_update(field,n,m,beta):\n",
    "    total = 0.\n",
    "    \n",
    "    N, M = field.shape\n",
    "    \n",
    "    for i in range(n-1,n+2):\n",
    "        for j in range(m-1,m+2):\n",
    "            if i == n and j == m:\n",
    "                continue\n",
    "            total += field[i%N,j%M]\n",
    "            \n",
    "            \n",
    "    dE = 2*field[n,m]*total\n",
    "    \n",
    "    if dE <= 0:\n",
    "        field[n,m] *= -1.\n",
    "        \n",
    "    elif np.exp(-dE * beta) > np.random.rand():\n",
    "        field[n,m] *= -1.\n",
    "    \n",
    "    Magnetization.append(np.sum(field.ravel()))"
   ]
  },
  {
   "cell_type": "code",
   "execution_count": 34,
   "metadata": {},
   "outputs": [
    {
     "data": {
      "image/png": "[encoded data removed]",
      "text/plain": [
       "<PIL.Image.Image image mode=L size=10x10 at 0x7F8C8D47C4D0>"
      ]
     },
     "execution_count": 34,
     "metadata": {},
     "output_type": "execute_result"
    }
   ],
   "source": [
    "display_spin_field(ising_step(random_spin_field(10, 10)))"
   ]
  },
  {
   "cell_type": "code",
   "execution_count": 38,
   "metadata": {},
   "outputs": [],
   "source": [
    "from ipywidgets import interact\n",
    "\n",
    "def display_ising_sequence(images):\n",
    "    def _show(frame=(0, len(images) - 1)):\n",
    "        return display_spin_field(images[frame])\n",
    "    return interact(_show)"
   ]
  },
  {
   "cell_type": "code",
   "execution_count": 39,
   "metadata": {},
   "outputs": [
    {
     "data": {
      "application/vnd.jupyter.widget-view+json": {
       "model_id": "de2413ec01bb475bb5a3d9c54d5ad5d7",
       "version_major": 2,
       "version_minor": 0
      },
      "text/plain": [
       "aW50ZXJhY3RpdmUoY2hpbGRyZW49KEludFNsaWRlcih2YWx1ZT0yNSwgZGVzY3JpcHRpb249dSdmcmFtZScsIG1heD01MCksIE91dHB1dCgpKSwgX2RvbV9jbGFzc2VzPSh1J3dpZGdldC1pbnTigKY=\n"
      ]
     },
     "metadata": {},
     "output_type": "display_data"
    }
   ],
   "source": [
    "images = [random_spin_field(200, 200)]\n",
    "for i in range(50):\n",
    "    images.append(ising_step(images[-1].copy()))\n",
    "display_ising_sequence(images);"
   ]
  },
  {
   "cell_type": "code",
   "execution_count": 40,
   "metadata": {},
   "outputs": [
    {
     "data": {
      "text/plain": [
       "[<matplotlib.lines.Line2D at 0x7f8c82982cd0>]"
      ]
     },
     "execution_count": 40,
     "metadata": {},
     "output_type": "execute_result"
    },
    {
     "data": {
      "image/png": "[encoded data removed]",
      "text/plain": [
       "<Figure size 432x288 with 1 Axes>"
      ]
     },
     "metadata": {
      "needs_background": "light"
     },
     "output_type": "display_data"
    }
   ],
   "source": [
    "plt.plot(Magnetization)\n",
    "#plt.xlim(0,10000)\n",
    "#plt.ylim(-100,100)"
   ]
  },
  {
   "cell_type": "code",
   "execution_count": null,
   "metadata": {},
   "outputs": [],
   "source": []
  }
 ],
 "metadata": {
  "kernelspec": {
   "display_name": "Python 3",
   "language": "python",
   "name": "python3"
  },
  "language_info": {
   "codemirror_mode": {
    "name": "ipython",
    "version": 2
   },
   "file_extension": ".py",
   "mimetype": "text/x-python",
   "name": "python",
   "nbconvert_exporter": "python",
   "pygments_lexer": "ipython2",
   "version": "2.7.16"
  }
 },
 "nbformat": 4,
 "nbformat_minor": 2
}
