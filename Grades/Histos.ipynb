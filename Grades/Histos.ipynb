{
 "cells": [
  {
   "cell_type": "code",
   "execution_count": 86,
   "metadata": {},
   "outputs": [],
   "source": [
    "import ROOT\n",
    "from ROOT import TCanvas, TH1D, TCanvas\n"
   ]
  },
  {
   "cell_type": "code",
   "execution_count": 74,
   "metadata": {
    "collapsed": true
   },
   "outputs": [],
   "source": [
    "import pandas as pd\n",
    "import matplotlib.pyplot as plt\n",
    "from scipy.stats import norm\n",
    "import matplotlib.mlab as mlab"
   ]
  },
  {
   "cell_type": "code",
   "execution_count": 50,
   "metadata": {
    "collapsed": true
   },
   "outputs": [],
   "source": [
    "Grades = pd.read_csv(\"grades.csv\")"
   ]
  },
  {
   "cell_type": "code",
   "execution_count": 51,
   "metadata": {},
   "outputs": [
    {
     "name": "stdout",
     "output_type": "stream",
     "text": [
      "Keys of Features: \n",
      "Index(['Alumno', 'ID', 'Parcial1'], dtype='object')\n"
     ]
    }
   ],
   "source": [
    "print(\"Keys of Features: \\n{}\".format(Grades.keys()))"
   ]
  },
  {
   "cell_type": "code",
   "execution_count": 54,
   "metadata": {},
   "outputs": [],
   "source": [
    "df = pd.DataFrame(Grades)\n",
    "#print(df)\n"
   ]
  },
  {
   "cell_type": "code",
   "execution_count": 100,
   "metadata": {},
   "outputs": [
    {
     "name": "stdout",
     "output_type": "stream",
     "text": [
      "0     4.6\n",
      "1     2.1\n",
      "2     2.8\n",
      "3     0.0\n",
      "4     2.5\n",
      "5     2.1\n",
      "6     3.5\n",
      "7     2.0\n",
      "8     0.0\n",
      "9     4.2\n",
      "10    2.1\n",
      "11    5.0\n",
      "12    3.9\n",
      "13    2.2\n",
      "14    4.2\n",
      "15    2.1\n",
      "16    1.0\n",
      "17    1.8\n",
      "18    1.5\n",
      "19    2.5\n",
      "20    5.0\n",
      "21    2.9\n",
      "22    2.9\n",
      "23    1.5\n",
      "24    2.6\n",
      "25    2.9\n",
      "26    3.4\n",
      "27    4.1\n",
      "28    1.5\n",
      "Name: Parcial1, dtype: float64\n"
     ]
    }
   ],
   "source": [
    "Alumno_ = Grades.Alumno\n",
    "ID_ = Grades.ID\n",
    "Parcial1 = Grades.Parcial1\n",
    "print(Parcial1)"
   ]
  },
  {
   "cell_type": "code",
   "execution_count": 71,
   "metadata": {},
   "outputs": [],
   "source": [
    "(mu, sigma) = norm.fit(Grades.Parcial1)"
   ]
  },
  {
   "cell_type": "code",
   "execution_count": 107,
   "metadata": {},
   "outputs": [
    {
     "data": {
      "image/png": "[encoded data removed]",
      "text/plain": [
       "<matplotlib.figure.Figure at 0x7fe59b71cdd8>"
      ]
     },
     "metadata": {},
     "output_type": "display_data"
    }
   ],
   "source": [
    "n, bins, patches = plt.hist(Grades.Parcial1, 20, normed = 1, facecolor='green', alpha=0.75, label='Grades')\n",
    "\n",
    "y = mlab.normpdf( bins, mu, sigma)\n",
    "l = plt.plot(bins, y, 'r--', linewidth=3)\n",
    "\n",
    "N=29.\n",
    "\n",
    "plt.legend()\n",
    "plt.xlabel('Grades')\n",
    "plt.ylabel('')\n",
    "plt.title(r'$\\mathrm{Histogram\\ of\\ Grades:}\\ \\mu=%.3f,\\ \\sigma=%.3f, \\ N=%.0f$' %(mu, sigma, N))\n",
    "plt.grid(True)\n",
    "\n",
    "\n",
    "plt.savefig(\"HistoGrades.pdf\")\n",
    "plt.show()\n"
   ]
  },
  {
   "cell_type": "code",
   "execution_count": null,
   "metadata": {},
   "outputs": [],
   "source": []
  },
  {
   "cell_type": "code",
   "execution_count": 117,
   "metadata": {},
   "outputs": [
    {
     "name": "stdout",
     "output_type": "stream",
     "text": [
      "29.0\n"
     ]
    },
    {
     "name": "stderr",
     "output_type": "stream",
     "text": [
      "Warning in <TCanvas::Constructor>: Deleting canvas with same name: c1\n",
      "Warning in <TROOT::Append>: Replacing existing TH1: h1 (Potential memory leak).\n",
      "Info in <TCanvas::Print>: pdf file HistoFromROOT.pdf has been created\n"
     ]
    }
   ],
   "source": [
    "%jsroot on\n",
    "c1 = TCanvas( 'c1', 'Histo', 200, 10, 700, 500 )\n",
    "h1 = TH1D( 'h1', 'Grades Histo', 20, 0., 5.2 )\n",
    "\n",
    "length = len(Parcial1)\n",
    "for i in range(length):\n",
    "    h1.Fill(Parcial1[i])\n",
    "\n",
    "h1.SetFillColor(4)\n",
    "h1.SetLineColor(1)\n",
    "\n",
    "scale = h1.Integral()\n",
    "print(scale)\n",
    "h1.Scale(1.0/scale)\n",
    "\n",
    "h1.Draw('HIST')\n",
    "\n",
    "c1.Update()\n",
    "c1.SaveAs(\"HistoFromROOT.pdf\")"
   ]
  },
  {
   "cell_type": "code",
   "execution_count": null,
   "metadata": {
    "collapsed": true
   },
   "outputs": [],
   "source": []
  }
 ],
 "metadata": {
  "kernelspec": {
   "display_name": "Python 3",
   "language": "python",
   "name": "python3"
  },
  "language_info": {
   "codemirror_mode": {
    "name": "ipython",
    "version": 2
   },
   "file_extension": ".py",
   "mimetype": "text/x-python",
   "name": "python",
   "nbconvert_exporter": "python",
   "pygments_lexer": "ipython2",
   "version": "2.7.16"
  }
 },
 "nbformat": 4,
 "nbformat_minor": 2
}
