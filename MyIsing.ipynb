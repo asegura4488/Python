{
 "cells": [
  {
   "cell_type": "code",
   "execution_count": 1,
   "metadata": {},
   "outputs": [],
   "source": [
    "import numpy as np\n",
    "import matplotlib.pyplot as plt\n",
    "from random import randint\n",
    "from tqdm import tqdm "
   ]
  },
  {
   "cell_type": "code",
   "execution_count": 2,
   "metadata": {},
   "outputs": [],
   "source": [
    "J = -1\n",
    "B = 2."
   ]
  },
  {
   "cell_type": "code",
   "execution_count": 3,
   "metadata": {},
   "outputs": [],
   "source": [
    "# Definiendo el array inicial\n",
    "\n",
    "def random_spin_field(N,M):\n",
    "    return np.random.choice([-1,1], size=(N,M))"
   ]
  },
  {
   "cell_type": "code",
   "execution_count": 4,
   "metadata": {},
   "outputs": [
    {
     "name": "stdout",
     "output_type": "stream",
     "text": [
      "[[-1 -1 -1 -1  1 -1 -1  1 -1 -1]\n",
      " [ 1  1 -1 -1  1  1 -1 -1  1 -1]\n",
      " [ 1 -1 -1  1 -1 -1  1  1 -1  1]\n",
      " [ 1  1  1  1  1 -1 -1 -1 -1 -1]\n",
      " [ 1 -1  1  1  1  1 -1 -1  1  1]\n",
      " [-1 -1 -1  1  1 -1  1  1 -1  1]\n",
      " [-1  1 -1  1 -1 -1 -1  1 -1 -1]\n",
      " [ 1 -1  1 -1  1 -1  1 -1  1 -1]\n",
      " [-1  1 -1  1 -1 -1  1 -1 -1 -1]\n",
      " [ 1 -1 -1  1 -1 -1 -1  1  1  1]]\n"
     ]
    }
   ],
   "source": [
    "N = 10\n",
    "M = 10\n",
    "sigma = random_spin_field(N,M)\n",
    "print(sigma)"
   ]
  },
  {
   "cell_type": "code",
   "execution_count": 5,
   "metadata": {},
   "outputs": [],
   "source": [
    "def GetEnergy(sigma):\n",
    "    \n",
    "    n = sigma.shape[0]\n",
    "    m = sigma.shape[1]\n",
    "    \n",
    "    energy = 0.\n",
    "     \n",
    "    for i in range(n):\n",
    "        for j in range(m):\n",
    "            \n",
    "            right = i+1\n",
    "            if i == n-1:\n",
    "                right = 0\n",
    "                \n",
    "            left = i-1\n",
    "           \n",
    "            up = j+1\n",
    "            if j == m-1:\n",
    "                up = 0\n",
    "                \n",
    "            down = j-1\n",
    "            \n",
    "            energy += 0.5*J*sigma[i,j]*\\\n",
    "            (sigma[right,j]+sigma[left,j]+sigma[i,up]+sigma[i,down])\n",
    "    \n",
    "    return energy"
   ]
  },
  {
   "cell_type": "code",
   "execution_count": 6,
   "metadata": {},
   "outputs": [],
   "source": [
    "def GetMagnetization(sigma):\n",
    "    return np.sum(sigma.ravel())/float(M*N)"
   ]
  },
  {
   "cell_type": "code",
   "execution_count": 7,
   "metadata": {},
   "outputs": [
    {
     "name": "stdout",
     "output_type": "stream",
     "text": [
      "(24.0, -0.1)\n"
     ]
    }
   ],
   "source": [
    "print(GetEnergy(sigma), GetMagnetization(sigma))"
   ]
  },
  {
   "cell_type": "code",
   "execution_count": 8,
   "metadata": {},
   "outputs": [],
   "source": [
    "# Implementamos metropolis\n",
    "\n",
    "def _ising_step(sigma, T):\n",
    "    \n",
    "    beta = 1./T\n",
    "    \n",
    "    current = sigma.copy()\n",
    "    energy1 = GetEnergy(current)\n",
    "    \n",
    "    # Calcular una posición en el array\n",
    "    x = randint(0,sigma.shape[0]-1)\n",
    "    y = randint(0,sigma.shape[1]-1)\n",
    "    \n",
    "    future = current.copy()\n",
    "    future[x,y] = current[x,y]*(-1)\n",
    "    \n",
    "    energy2 = GetEnergy(future)\n",
    "    \n",
    "    dE = energy2-energy1\n",
    "    \n",
    "    r =  np.random.rand()   \n",
    "    \n",
    "    if dE < 0.:\n",
    "        return future\n",
    "        \n",
    "    elif r < np.exp(- dE * beta):\n",
    "        return future\n",
    "    \n",
    "    else:\n",
    "        return current"
   ]
  },
  {
   "cell_type": "code",
   "execution_count": 9,
   "metadata": {},
   "outputs": [
    {
     "name": "stderr",
     "output_type": "stream",
     "text": [
      "100%|██████████| 20000/20000 [00:08<00:00, 2438.46it/s]\n"
     ]
    }
   ],
   "source": [
    "Energy = []\n",
    "Energy2 = []\n",
    "Magnetization = []\n",
    "\n",
    "T = 3.0\n",
    "Ntoys = 20000\n",
    "\n",
    "sigma_ = sigma.copy()\n",
    "\n",
    "for i in tqdm(range(Ntoys)):\n",
    "    sigma_ = _ising_step(sigma_,T)\n",
    "    \n",
    "    if i > 10000:\n",
    "        energy = GetEnergy(sigma_)\n",
    "        magnetization = GetMagnetization(sigma_)\n",
    "        Energy.append(energy)\n",
    "        Energy2.append(energy**2)\n",
    "        Magnetization.append(magnetization)"
   ]
  },
  {
   "cell_type": "code",
   "execution_count": 10,
   "metadata": {},
   "outputs": [
    {
     "name": "stdout",
     "output_type": "stream",
     "text": [
      "(-0.7945034503450346, 0.276969696969697, 0.4462654150203485)\n"
     ]
    }
   ],
   "source": [
    "e = np.average(Energy)\n",
    "e2 = np.average(Energy2)\n",
    "m = np.average(Magnetization)\n",
    "\n",
    "cv = (e2 - e**2)/(float(M*N)*T**2)\n",
    "\n",
    "print(e/float(M*N),m,cv)"
   ]
  },
  {
   "cell_type": "code",
   "execution_count": 11,
   "metadata": {},
   "outputs": [
    {
     "data": {
      "text/plain": [
       "[<matplotlib.lines.Line2D at 0x7f249b949e90>]"
      ]
     },
     "execution_count": 11,
     "metadata": {},
     "output_type": "execute_result"
    },
    {
     "data": {
      "image/png": "[encoded data removed]",
      "text/plain": [
       "<Figure size 432x288 with 1 Axes>"
      ]
     },
     "metadata": {
      "needs_background": "light"
     },
     "output_type": "display_data"
    }
   ],
   "source": [
    "plt.figure()\n",
    "plt.plot(Energy)"
   ]
  },
  {
   "cell_type": "code",
   "execution_count": 12,
   "metadata": {},
   "outputs": [
    {
     "data": {
      "text/plain": [
       "(array([  37.,  204.,  369.,  730., 1335., 2192., 2540., 1740.,  693.,\n",
       "         159.]),\n",
       " array([-148., -136., -124., -112., -100.,  -88.,  -76.,  -64.,  -52.,\n",
       "         -40.,  -28.]),\n",
       " <a list of 10 Patch objects>)"
      ]
     },
     "execution_count": 12,
     "metadata": {},
     "output_type": "execute_result"
    },
    {
     "data": {
      "image/png": "[encoded data removed]",
      "text/plain": [
       "<Figure size 432x288 with 1 Axes>"
      ]
     },
     "metadata": {
      "needs_background": "light"
     },
     "output_type": "display_data"
    }
   ],
   "source": [
    "plt.figure()\n",
    "plt.hist(Energy, bins=10)"
   ]
  },
  {
   "cell_type": "code",
   "execution_count": 13,
   "metadata": {},
   "outputs": [
    {
     "data": {
      "text/plain": [
       "[<matplotlib.lines.Line2D at 0x7f249b815590>]"
      ]
     },
     "execution_count": 13,
     "metadata": {},
     "output_type": "execute_result"
    },
    {
     "data": {
      "image/png": "[encoded data removed]",
      "text/plain": [
       "<Figure size 432x288 with 1 Axes>"
      ]
     },
     "metadata": {
      "needs_background": "light"
     },
     "output_type": "display_data"
    }
   ],
   "source": [
    "plt.figure()\n",
    "plt.plot(Magnetization)"
   ]
  },
  {
   "cell_type": "code",
   "execution_count": 14,
   "metadata": {},
   "outputs": [
    {
     "data": {
      "text/plain": [
       "(array([  27.,  186.,  492., 1398., 1988., 2114., 1923.,  863.,  784.,\n",
       "         224.]),\n",
       " array([-0.36 , -0.244, -0.128, -0.012,  0.104,  0.22 ,  0.336,  0.452,\n",
       "         0.568,  0.684,  0.8  ]),\n",
       " <a list of 10 Patch objects>)"
      ]
     },
     "execution_count": 14,
     "metadata": {},
     "output_type": "execute_result"
    },
    {
     "data": {
      "image/png": "[encoded data removed]",
      "text/plain": [
       "<Figure size 432x288 with 1 Axes>"
      ]
     },
     "metadata": {
      "needs_background": "light"
     },
     "output_type": "display_data"
    }
   ],
   "source": [
    "plt.figure()\n",
    "plt.hist(Magnetization, bins=10)"
   ]
  },
  {
   "cell_type": "code",
   "execution_count": 17,
   "metadata": {},
   "outputs": [],
   "source": [
    "# Ahora vamos a variar las temperaturas\n",
    "\n",
    "def GetValues(T, Ntoys = 20000):\n",
    "    \n",
    "    sigma_ = sigma.copy()\n",
    "    \n",
    "    Energy = []\n",
    "    Energy2 = []\n",
    "    Magnetization = []\n",
    "    \n",
    "    for i in tqdm(range(Ntoys)):\n",
    "   \n",
    "        sigma_ = _ising_step(sigma_,T)\n",
    "\n",
    "        if i > 10000:\n",
    "            energy = GetEnergy(sigma_)\n",
    "            magnetization = GetMagnetization(sigma_)\n",
    "            Energy.append(energy)\n",
    "            Energy2.append(energy**2)\n",
    "            Magnetization.append(magnetization)\n",
    "            \n",
    "    e = np.average(Energy)\n",
    "    e2 = np.average(Energy2)\n",
    "    m = np.average(Magnetization)\n",
    "\n",
    "    cv = (e2 - e**2)/(float(M*N)*T**2)   \n",
    "    \n",
    "    return e/float(M*N),m,cv    "
   ]
  },
  {
   "cell_type": "code",
   "execution_count": 18,
   "metadata": {},
   "outputs": [
    {
     "name": "stderr",
     "output_type": "stream",
     "text": [
      "100%|██████████| 20000/20000 [00:07<00:00, 2518.61it/s]\n",
      "  2%|▏         | 306/20000 [00:00<00:06, 3054.02it/s]"
     ]
    },
    {
     "name": "stdout",
     "output_type": "stream",
     "text": [
      "(-1.996975697569757, -0.9992439243924393, 0.024431894134468165)\n"
     ]
    },
    {
     "name": "stderr",
     "output_type": "stream",
     "text": [
      "100%|██████████| 20000/20000 [00:08<00:00, 2410.00it/s]\n",
      "  2%|▏         | 308/20000 [00:00<00:06, 3075.30it/s]"
     ]
    },
    {
     "name": "stdout",
     "output_type": "stream",
     "text": [
      "(-1.9944794479447945, -0.9986158615861586, 0.0367843852695804)\n"
     ]
    },
    {
     "name": "stderr",
     "output_type": "stream",
     "text": [
      "100%|██████████| 20000/20000 [00:08<00:00, 2493.15it/s]\n",
      "  2%|▏         | 313/20000 [00:00<00:06, 3125.19it/s]"
     ]
    },
    {
     "name": "stdout",
     "output_type": "stream",
     "text": [
      "(-1.9887428742874287, -0.9971017101710171, 0.06325144965745089)\n"
     ]
    },
    {
     "name": "stderr",
     "output_type": "stream",
     "text": [
      "100%|██████████| 20000/20000 [00:07<00:00, 2503.33it/s]\n",
      "  1%|▏         | 296/20000 [00:00<00:06, 2955.68it/s]"
     ]
    },
    {
     "name": "stdout",
     "output_type": "stream",
     "text": [
      "(-1.973105310531053, 0.991985198519852, 0.1733349672719383)\n"
     ]
    },
    {
     "name": "stderr",
     "output_type": "stream",
     "text": [
      "100%|██████████| 20000/20000 [00:08<00:00, 2429.15it/s]\n",
      "  1%|▏         | 299/20000 [00:00<00:06, 2982.27it/s]"
     ]
    },
    {
     "name": "stdout",
     "output_type": "stream",
     "text": [
      "(-1.9744854485448544, -0.9928632863286329, 0.09430906168556094)\n"
     ]
    },
    {
     "name": "stderr",
     "output_type": "stream",
     "text": [
      "100%|██████████| 20000/20000 [00:08<00:00, 2394.66it/s]\n",
      "  1%|▏         | 288/20000 [00:00<00:06, 2872.82it/s]"
     ]
    },
    {
     "name": "stdout",
     "output_type": "stream",
     "text": [
      "(-1.9633283328332833, -0.9901810181018101, 0.14423323702726815)\n"
     ]
    },
    {
     "name": "stderr",
     "output_type": "stream",
     "text": [
      "100%|██████████| 20000/20000 [00:08<00:00, 2434.55it/s]\n",
      "  1%|▏         | 279/20000 [00:00<00:07, 2783.41it/s]"
     ]
    },
    {
     "name": "stdout",
     "output_type": "stream",
     "text": [
      "(-1.9342174217421744, -0.9816561656165619, 0.1973496229510657)\n"
     ]
    },
    {
     "name": "stderr",
     "output_type": "stream",
     "text": [
      "100%|██████████| 20000/20000 [00:08<00:00, 2380.23it/s]\n",
      "  1%|▏         | 275/20000 [00:00<00:07, 2744.57it/s]"
     ]
    },
    {
     "name": "stdout",
     "output_type": "stream",
     "text": [
      "(-1.908086808680868, -0.9744214421442146, 0.2523549955343928)\n"
     ]
    },
    {
     "name": "stderr",
     "output_type": "stream",
     "text": [
      "100%|██████████| 20000/20000 [00:08<00:00, 2442.59it/s]\n",
      "  1%|▏         | 279/20000 [00:00<00:07, 2786.99it/s]"
     ]
    },
    {
     "name": "stdout",
     "output_type": "stream",
     "text": [
      "(-1.8384318431843183, -0.9524892489248925, 0.3985516184369275)\n"
     ]
    },
    {
     "name": "stderr",
     "output_type": "stream",
     "text": [
      "100%|██████████| 20000/20000 [00:08<00:00, 2484.65it/s]\n",
      "  1%|▏         | 292/20000 [00:00<00:06, 2914.17it/s]"
     ]
    },
    {
     "name": "stdout",
     "output_type": "stream",
     "text": [
      "(-1.8187178717871788, -0.9482128212821282, 0.3899314117459)\n"
     ]
    },
    {
     "name": "stderr",
     "output_type": "stream",
     "text": [
      "100%|██████████| 20000/20000 [00:07<00:00, 2502.24it/s]\n",
      "  1%|▏         | 298/20000 [00:00<00:06, 2975.27it/s]"
     ]
    },
    {
     "name": "stdout",
     "output_type": "stream",
     "text": [
      "(-1.8325712571257124, 0.9515251525152516, 0.4015206345117073)\n"
     ]
    },
    {
     "name": "stderr",
     "output_type": "stream",
     "text": [
      "100%|██████████| 20000/20000 [00:08<00:00, 2463.89it/s]\n",
      "  1%|▏         | 268/20000 [00:00<00:07, 2679.97it/s]"
     ]
    },
    {
     "name": "stdout",
     "output_type": "stream",
     "text": [
      "(-1.6482808280828083, 0.8773157315731573, 0.7767251723692536)\n"
     ]
    },
    {
     "name": "stderr",
     "output_type": "stream",
     "text": [
      "100%|██████████| 20000/20000 [00:08<00:00, 2257.95it/s]\n",
      "  2%|▏         | 301/20000 [00:00<00:06, 3002.04it/s]"
     ]
    },
    {
     "name": "stdout",
     "output_type": "stream",
     "text": [
      "(-1.4820402040204022, -0.7290489048904891, 1.4408713182020298)\n"
     ]
    },
    {
     "name": "stderr",
     "output_type": "stream",
     "text": [
      "100%|██████████| 20000/20000 [00:08<00:00, 2385.88it/s]\n",
      "  1%|▏         | 286/20000 [00:00<00:06, 2857.28it/s]"
     ]
    },
    {
     "name": "stdout",
     "output_type": "stream",
     "text": [
      "(-1.4832363236323634, 0.7907130713071309, 1.1534508319778203)\n"
     ]
    },
    {
     "name": "stderr",
     "output_type": "stream",
     "text": [
      "100%|██████████| 20000/20000 [00:08<00:00, 2496.86it/s]\n",
      "  2%|▏         | 310/20000 [00:00<00:06, 3094.68it/s]"
     ]
    },
    {
     "name": "stdout",
     "output_type": "stream",
     "text": [
      "(-1.2678387838783878, -0.6501290129012902, 0.8800928636606902)\n"
     ]
    },
    {
     "name": "stderr",
     "output_type": "stream",
     "text": [
      "100%|██████████| 20000/20000 [00:08<00:00, 2328.95it/s]\n",
      "  1%|▏         | 278/20000 [00:00<00:07, 2776.39it/s]"
     ]
    },
    {
     "name": "stdout",
     "output_type": "stream",
     "text": [
      "(-1.3072267226722674, -0.6993839383938395, 1.024423397571278)\n"
     ]
    },
    {
     "name": "stderr",
     "output_type": "stream",
     "text": [
      "100%|██████████| 20000/20000 [00:08<00:00, 2451.04it/s]\n",
      "  1%|▏         | 277/20000 [00:00<00:07, 2762.24it/s]"
     ]
    },
    {
     "name": "stdout",
     "output_type": "stream",
     "text": [
      "(-0.9711291129112911, 0.30071807180718074, 0.5926461763265568)\n"
     ]
    },
    {
     "name": "stderr",
     "output_type": "stream",
     "text": [
      "100%|██████████| 20000/20000 [00:08<00:00, 2439.90it/s]\n",
      "  2%|▏         | 301/20000 [00:00<00:06, 3006.21it/s]"
     ]
    },
    {
     "name": "stdout",
     "output_type": "stream",
     "text": [
      "(-1.053137313731373, 0.17483548354835488, 0.8958205593786346)\n"
     ]
    },
    {
     "name": "stderr",
     "output_type": "stream",
     "text": [
      "100%|██████████| 20000/20000 [00:08<00:00, 2480.71it/s]\n",
      "  2%|▏         | 309/20000 [00:00<00:06, 3084.48it/s]"
     ]
    },
    {
     "name": "stdout",
     "output_type": "stream",
     "text": [
      "(-0.92989698969897, -0.12545454545454546, 0.49898432942706283)\n"
     ]
    },
    {
     "name": "stderr",
     "output_type": "stream",
     "text": [
      "100%|██████████| 20000/20000 [00:08<00:00, 2438.02it/s]"
     ]
    },
    {
     "name": "stdout",
     "output_type": "stream",
     "text": [
      "(-0.9195719571957196, 0.25343734373437343, 0.34840840561677777)\n"
     ]
    },
    {
     "name": "stderr",
     "output_type": "stream",
     "text": [
      "\n"
     ]
    }
   ],
   "source": [
    "T = np.arange(1.0,3.0,0.1)\n",
    "\n",
    "Energy = np.zeros(len(T))\n",
    "Mag = np.zeros(len(T))\n",
    "Cv = np.zeros(len(T))\n",
    "\n",
    "for t in range(len(T)):\n",
    "    Energy[t], Mag[t], Cv[t] = GetValues(T[t])\n",
    "    print(T[t], Energy[t], Mag[t], Cv[t])"
   ]
  },
  {
   "cell_type": "code",
   "execution_count": 19,
   "metadata": {},
   "outputs": [
    {
     "data": {
      "text/plain": [
       "<matplotlib.collections.PathCollection at 0x7f249b654310>"
      ]
     },
     "execution_count": 19,
     "metadata": {},
     "output_type": "execute_result"
    },
    {
     "data": {
      "image/png": "[encoded data removed]",
      "text/plain": [
       "<Figure size 432x288 with 1 Axes>"
      ]
     },
     "metadata": {
      "needs_background": "light"
     },
     "output_type": "display_data"
    }
   ],
   "source": [
    "plt.figure()\n",
    "plt.scatter(T,Energy)"
   ]
  },
  {
   "cell_type": "code",
   "execution_count": 20,
   "metadata": {},
   "outputs": [
    {
     "data": {
      "text/plain": [
       "<matplotlib.collections.PathCollection at 0x7f249b688f10>"
      ]
     },
     "execution_count": 20,
     "metadata": {},
     "output_type": "execute_result"
    },
    {
     "data": {
      "image/png": "[encoded data removed]",
      "text/plain": [
       "<Figure size 432x288 with 1 Axes>"
      ]
     },
     "metadata": {
      "needs_background": "light"
     },
     "output_type": "display_data"
    }
   ],
   "source": [
    "plt.figure()\n",
    "plt.scatter(T,Mag)"
   ]
  },
  {
   "cell_type": "code",
   "execution_count": 21,
   "metadata": {},
   "outputs": [
    {
     "data": {
      "text/plain": [
       "<matplotlib.collections.PathCollection at 0x7f249b573b10>"
      ]
     },
     "execution_count": 21,
     "metadata": {},
     "output_type": "execute_result"
    },
    {
     "data": {
      "image/png": "[encoded data removed]",
      "text/plain": [
       "<Figure size 432x288 with 1 Axes>"
      ]
     },
     "metadata": {
      "needs_background": "light"
     },
     "output_type": "display_data"
    }
   ],
   "source": [
    "plt.figure()\n",
    "plt.scatter(T,Cv)"
   ]
  },
  {
   "cell_type": "code",
   "execution_count": null,
   "metadata": {},
   "outputs": [],
   "source": []
  },
  {
   "cell_type": "code",
   "execution_count": null,
   "metadata": {},
   "outputs": [],
   "source": []
  }
 ],
 "metadata": {
  "kernelspec": {
   "display_name": "Python 3",
   "language": "python",
   "name": "python3"
  },
  "language_info": {
   "codemirror_mode": {
    "name": "ipython",
    "version": 2
   },
   "file_extension": ".py",
   "mimetype": "text/x-python",
   "name": "python",
   "nbconvert_exporter": "python",
   "pygments_lexer": "ipython2",
   "version": "2.7.16"
  }
 },
 "nbformat": 4,
 "nbformat_minor": 2
}
