{
 "cells": [
  {
   "cell_type": "code",
   "execution_count": 1,
   "metadata": {},
   "outputs": [],
   "source": [
    "import numpy as np\n",
    "import matplotlib.pyplot as plt\n",
    "from random import randint\n",
    "from tqdm import tqdm "
   ]
  },
  {
   "cell_type": "code",
   "execution_count": 2,
   "metadata": {},
   "outputs": [],
   "source": [
    "J = -1\n",
    "B = 2."
   ]
  },
  {
   "cell_type": "code",
   "execution_count": 3,
   "metadata": {},
   "outputs": [],
   "source": [
    "# Definiendo el array inicial\n",
    "\n",
    "def random_spin_field(N,M):\n",
    "    return np.random.choice([-1,1], size=(N,M))"
   ]
  },
  {
   "cell_type": "code",
   "execution_count": 55,
   "metadata": {},
   "outputs": [
    {
     "name": "stdout",
     "output_type": "stream",
     "text": [
      "[[-1 -1  1  1 -1 -1 -1  1  1  1 -1 -1 -1 -1 -1  1 -1  1 -1  1]\n",
      " [ 1 -1  1 -1  1  1  1  1 -1  1 -1 -1 -1 -1 -1  1 -1 -1 -1 -1]\n",
      " [-1 -1  1 -1 -1  1  1  1 -1 -1  1  1  1  1  1 -1 -1  1  1 -1]\n",
      " [-1  1  1 -1 -1 -1 -1  1  1 -1 -1  1 -1 -1 -1  1  1 -1 -1 -1]\n",
      " [-1 -1  1  1  1 -1 -1  1  1 -1  1  1 -1 -1  1  1  1  1  1  1]\n",
      " [ 1 -1  1  1  1 -1 -1 -1  1 -1 -1 -1 -1 -1 -1 -1  1  1 -1 -1]\n",
      " [ 1  1  1  1 -1 -1  1  1  1  1  1 -1 -1 -1  1  1  1 -1 -1 -1]\n",
      " [-1 -1  1 -1 -1  1  1  1  1 -1  1  1 -1 -1  1  1 -1  1 -1 -1]\n",
      " [ 1  1 -1 -1 -1 -1 -1 -1  1  1  1 -1 -1 -1  1  1 -1  1 -1 -1]\n",
      " [ 1  1  1  1  1 -1 -1  1  1 -1 -1 -1  1  1  1  1 -1  1 -1 -1]\n",
      " [ 1 -1 -1  1 -1 -1 -1  1  1 -1 -1 -1 -1 -1 -1  1 -1  1  1  1]\n",
      " [-1 -1  1  1 -1  1 -1 -1  1 -1 -1  1  1 -1 -1  1  1 -1 -1 -1]\n",
      " [-1 -1  1 -1  1 -1  1 -1 -1  1  1 -1 -1 -1  1  1  1 -1 -1  1]\n",
      " [-1 -1 -1  1  1 -1  1  1 -1  1 -1  1  1  1  1 -1  1  1  1 -1]\n",
      " [-1 -1 -1 -1 -1  1 -1  1 -1 -1  1 -1  1 -1 -1 -1 -1  1 -1 -1]\n",
      " [ 1  1 -1 -1  1  1  1 -1 -1  1 -1  1 -1  1 -1 -1 -1  1 -1  1]\n",
      " [ 1  1 -1 -1 -1  1  1 -1  1  1  1  1  1  1 -1  1 -1  1  1 -1]\n",
      " [ 1  1  1  1 -1  1  1 -1 -1 -1  1 -1 -1  1  1 -1  1  1 -1 -1]\n",
      " [-1  1  1 -1 -1  1 -1  1 -1  1  1  1  1 -1 -1  1  1 -1 -1 -1]\n",
      " [ 1 -1 -1  1 -1  1 -1 -1 -1 -1  1 -1 -1 -1 -1  1  1 -1 -1 -1]]\n"
     ]
    }
   ],
   "source": [
    "N = 20\n",
    "M = 20\n",
    "sigma = random_spin_field(N,M)\n",
    "print(sigma)"
   ]
  },
  {
   "cell_type": "code",
   "execution_count": 56,
   "metadata": {},
   "outputs": [],
   "source": [
    "def GetEnergy(sigma):\n",
    "    \n",
    "    n = sigma.shape[0]\n",
    "    m = sigma.shape[1]\n",
    "    \n",
    "    energy = 0.\n",
    "     \n",
    "    for i in range(n):\n",
    "        for j in range(m):\n",
    "            \n",
    "            right = i+1\n",
    "            if i == n-1:\n",
    "                right = 0\n",
    "                \n",
    "            left = i-1\n",
    "           \n",
    "            up = j+1\n",
    "            if j == m-1:\n",
    "                up = 0\n",
    "                \n",
    "            down = j-1\n",
    "            \n",
    "            energy += 0.5*J*sigma[i,j]*\\\n",
    "            (sigma[right,j]+sigma[left,j]+sigma[i,up]+sigma[i,down])\n",
    "    \n",
    "    return energy"
   ]
  },
  {
   "cell_type": "code",
   "execution_count": 57,
   "metadata": {},
   "outputs": [],
   "source": [
    "def GetMagnetization(sigma):\n",
    "    return np.sum(sigma.ravel())/float(M*N)"
   ]
  },
  {
   "cell_type": "code",
   "execution_count": 58,
   "metadata": {},
   "outputs": [
    {
     "name": "stdout",
     "output_type": "stream",
     "text": [
      "(-52.0, -0.06)\n"
     ]
    }
   ],
   "source": [
    "print(GetEnergy(sigma), GetMagnetization(sigma))"
   ]
  },
  {
   "cell_type": "code",
   "execution_count": 59,
   "metadata": {},
   "outputs": [],
   "source": [
    "# Implementamos metropolis\n",
    "\n",
    "def _ising_step(sigma, T):\n",
    "    \n",
    "    beta = 1./T\n",
    "    \n",
    "    current = sigma.copy()\n",
    "    energy1 = GetEnergy(current)\n",
    "    \n",
    "    # Calcular una posición en el array\n",
    "    x = randint(0,sigma.shape[0]-1)\n",
    "    y = randint(0,sigma.shape[1]-1)\n",
    "    \n",
    "    future = current.copy()\n",
    "    future[x,y] = current[x,y]*(-1)\n",
    "    \n",
    "    energy2 = GetEnergy(future)\n",
    "    \n",
    "    dE = energy2-energy1\n",
    "    \n",
    "    r =  np.random.rand()   \n",
    "    \n",
    "    if dE < 0.:\n",
    "        return future\n",
    "        \n",
    "    elif r < np.exp(- dE * beta):\n",
    "        return future\n",
    "    \n",
    "    else:\n",
    "        return current"
   ]
  },
  {
   "cell_type": "code",
   "execution_count": null,
   "metadata": {},
   "outputs": [],
   "source": []
  },
  {
   "cell_type": "code",
   "execution_count": 60,
   "metadata": {},
   "outputs": [
    {
     "name": "stderr",
     "output_type": "stream",
     "text": [
      "100%|██████████| 40000/40000 [00:59<00:00, 666.80it/s]\n"
     ]
    }
   ],
   "source": [
    "Energy = []\n",
    "Energy2 = []\n",
    "Magnetization = []\n",
    "\n",
    "T = 2.2\n",
    "Ntoys = 40000\n",
    "\n",
    "sigma_ = sigma.copy()\n",
    "\n",
    "for i in tqdm(range(Ntoys)):\n",
    "    sigma_ = _ising_step(sigma_,T)\n",
    "    \n",
    "    if i > 20000:\n",
    "        energy = GetEnergy(sigma_)\n",
    "        magnetization = GetMagnetization(sigma_)\n",
    "        Energy.append(energy)\n",
    "        Energy2.append(energy**2)\n",
    "        Magnetization.append(magnetization)"
   ]
  },
  {
   "cell_type": "code",
   "execution_count": 64,
   "metadata": {},
   "outputs": [
    {
     "name": "stdout",
     "output_type": "stream",
     "text": [
      "(-1.4085544277213862, 1.9938869943497175, 0.0020374831603710364, 0.612439621981099)\n"
     ]
    }
   ],
   "source": [
    "e = np.average(Energy)/float(M*N)\n",
    "e2 = np.average(Energy2)/float((M*N)**2)\n",
    "m = np.average(Magnetization)\n",
    "\n",
    "cv = (e2 - e**2)/(T**2)\n",
    "\n",
    "print(e,e2,cv,m)"
   ]
  },
  {
   "cell_type": "code",
   "execution_count": 65,
   "metadata": {},
   "outputs": [
    {
     "data": {
      "text/plain": [
       "[<matplotlib.lines.Line2D at 0x7fc5eb17da50>]"
      ]
     },
     "execution_count": 65,
     "metadata": {},
     "output_type": "execute_result"
    },
    {
     "data": {
      "image/png": "[encoded data removed]",
      "text/plain": [
       "<Figure size 432x288 with 1 Axes>"
      ]
     },
     "metadata": {
      "needs_background": "light"
     },
     "output_type": "display_data"
    }
   ],
   "source": [
    "plt.figure()\n",
    "plt.plot(Energy)"
   ]
  },
  {
   "cell_type": "code",
   "execution_count": 66,
   "metadata": {},
   "outputs": [
    {
     "data": {
      "text/plain": [
       "(array([ 148., 1515., 2638., 5159., 4039., 3714., 1785.,  485.,  278.,\n",
       "         238.]),\n",
       " array([-664. , -640.4, -616.8, -593.2, -569.6, -546. , -522.4, -498.8,\n",
       "        -475.2, -451.6, -428. ]),\n",
       " <a list of 10 Patch objects>)"
      ]
     },
     "execution_count": 66,
     "metadata": {},
     "output_type": "execute_result"
    },
    {
     "data": {
      "image/png": "[encoded data removed]",
      "text/plain": [
       "<Figure size 432x288 with 1 Axes>"
      ]
     },
     "metadata": {
      "needs_background": "light"
     },
     "output_type": "display_data"
    }
   ],
   "source": [
    "plt.figure()\n",
    "plt.hist(Energy, bins=10)"
   ]
  },
  {
   "cell_type": "code",
   "execution_count": 67,
   "metadata": {},
   "outputs": [
    {
     "data": {
      "text/plain": [
       "[<matplotlib.lines.Line2D at 0x7fc5eb07d790>]"
      ]
     },
     "execution_count": 67,
     "metadata": {},
     "output_type": "execute_result"
    },
    {
     "data": {
      "image/png": "[encoded data removed]",
      "text/plain": [
       "<Figure size 432x288 with 1 Axes>"
      ]
     },
     "metadata": {
      "needs_background": "light"
     },
     "output_type": "display_data"
    }
   ],
   "source": [
    "plt.figure()\n",
    "plt.plot(Magnetization)"
   ]
  },
  {
   "cell_type": "code",
   "execution_count": 69,
   "metadata": {},
   "outputs": [
    {
     "data": {
      "text/plain": [
       "(array([ 181.,  921., 1958., 1993., 1385., 3573., 2827., 2763., 3143.,\n",
       "        1255.]),\n",
       " array([0.42 , 0.453, 0.486, 0.519, 0.552, 0.585, 0.618, 0.651, 0.684,\n",
       "        0.717, 0.75 ]),\n",
       " <a list of 10 Patch objects>)"
      ]
     },
     "execution_count": 69,
     "metadata": {},
     "output_type": "execute_result"
    },
    {
     "data": {
      "image/png": "[encoded data removed]",
      "text/plain": [
       "<Figure size 432x288 with 1 Axes>"
      ]
     },
     "metadata": {
      "needs_background": "light"
     },
     "output_type": "display_data"
    }
   ],
   "source": [
    "plt.figure()\n",
    "plt.hist(Magnetization, bins=10)"
   ]
  },
  {
   "cell_type": "code",
   "execution_count": 42,
   "metadata": {},
   "outputs": [
    {
     "name": "stdout",
     "output_type": "stream",
     "text": [
      "(-1334.299664686158, -0.37234454967939296, 1165.231857441456)\n"
     ]
    }
   ],
   "source": [
    "# Calculando calor espeficico\n",
    "\n",
    "cv = (np.average(Energy2)-np.average(Energy)**2)/T**2\n",
    "\n",
    "print(np.average(Energy),np.average(Magnetization),cv)"
   ]
  },
  {
   "cell_type": "code",
   "execution_count": null,
   "metadata": {},
   "outputs": [],
   "source": [
    "# Ahora vamos a variar las temperaturas\n",
    "\n",
    "def GetValues(T, Ntoys = 2000):\n",
    "    \n",
    "    sigma_ = sigma.copy()\n",
    "    \n",
    "    Energy = []\n",
    "    Energy2 = []\n",
    "    Magnetization = []\n",
    "    \n",
    "    for i in range(Ntoys):\n",
    "    #for i in tqdm(range(Ntoys)):\n",
    "        sigma_ = _ising_step(sigma_,T)\n",
    "        energy = GetEnergy(sigma_)\n",
    "        magnetization = GetMagnetization(sigma_)\n",
    "    \n",
    "        Energy.append(energy/float(M*N))\n",
    "        Energy2.append((energy/float(M*N))**2)\n",
    "        Magnetization.append(magnetization)\n",
    "        \n",
    "    cv = (np.average(Energy2)-np.average(Energy)**2)/T**2\n",
    "    \n",
    "    return np.average(Energy),np.average(Magnetization),cv    "
   ]
  },
  {
   "cell_type": "code",
   "execution_count": null,
   "metadata": {},
   "outputs": [],
   "source": []
  },
  {
   "cell_type": "code",
   "execution_count": null,
   "metadata": {},
   "outputs": [],
   "source": [
    "T = np.arange(1.0,3.0,0.1)\n",
    "\n",
    "Energy = np.zeros(len(T))\n",
    "Mag = np.zeros(len(T))\n",
    "Cv = np.zeros(len(T))\n",
    "\n",
    "for t in tqdm(range(len(T))):\n",
    "    Energy[t], Mag[t], Cv[t] = GetValues(T[t])\n",
    "    print(GetValues(T[t]))"
   ]
  },
  {
   "cell_type": "code",
   "execution_count": null,
   "metadata": {},
   "outputs": [],
   "source": [
    "plt.plot(T,Energy)"
   ]
  },
  {
   "cell_type": "code",
   "execution_count": null,
   "metadata": {},
   "outputs": [],
   "source": [
    "plt.plot(T,Mag)"
   ]
  },
  {
   "cell_type": "code",
   "execution_count": null,
   "metadata": {},
   "outputs": [],
   "source": [
    "plt.plot(T,Cv)"
   ]
  },
  {
   "cell_type": "code",
   "execution_count": null,
   "metadata": {},
   "outputs": [],
   "source": []
  },
  {
   "cell_type": "code",
   "execution_count": null,
   "metadata": {},
   "outputs": [],
   "source": []
  }
 ],
 "metadata": {
  "kernelspec": {
   "display_name": "Python 3",
   "language": "python",
   "name": "python3"
  },
  "language_info": {
   "codemirror_mode": {
    "name": "ipython",
    "version": 2
   },
   "file_extension": ".py",
   "mimetype": "text/x-python",
   "name": "python",
   "nbconvert_exporter": "python",
   "pygments_lexer": "ipython2",
   "version": "2.7.16"
  }
 },
 "nbformat": 4,
 "nbformat_minor": 2
}
