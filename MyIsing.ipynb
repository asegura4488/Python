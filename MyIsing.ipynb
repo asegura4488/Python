{
 "cells": [
  {
   "cell_type": "code",
   "execution_count": 1,
   "metadata": {},
   "outputs": [],
   "source": [
    "import numpy as np\n",
    "import matplotlib.pyplot as plt\n",
    "from random import randint\n",
    "from tqdm import tqdm "
   ]
  },
  {
   "cell_type": "code",
   "execution_count": 29,
   "metadata": {},
   "outputs": [],
   "source": [
    "J = -1\n",
    "B = 2."
   ]
  },
  {
   "cell_type": "code",
   "execution_count": 30,
   "metadata": {},
   "outputs": [],
   "source": [
    "# Definiendo el array inicial\n",
    "\n",
    "def random_spin_field(N,M):\n",
    "    return np.random.choice([-1,1], size=(N,M))"
   ]
  },
  {
   "cell_type": "code",
   "execution_count": 31,
   "metadata": {},
   "outputs": [
    {
     "name": "stdout",
     "output_type": "stream",
     "text": [
      "[[ 1  1 -1 -1  1 -1 -1  1 -1  1]\n",
      " [ 1  1 -1 -1  1  1  1 -1 -1 -1]\n",
      " [-1  1 -1 -1 -1 -1 -1 -1 -1  1]\n",
      " [-1 -1 -1  1  1 -1  1  1 -1 -1]\n",
      " [-1  1 -1 -1 -1  1  1 -1  1  1]\n",
      " [ 1  1 -1  1  1  1 -1  1  1  1]\n",
      " [-1  1  1  1  1  1 -1  1  1 -1]\n",
      " [ 1  1 -1 -1 -1 -1 -1 -1  1  1]\n",
      " [-1  1  1  1  1 -1 -1 -1 -1  1]\n",
      " [-1  1 -1 -1 -1  1 -1 -1 -1  1]]\n"
     ]
    }
   ],
   "source": [
    "N = 10\n",
    "M = 10\n",
    "sigma = random_spin_field(N,M)\n",
    "print(sigma)"
   ]
  },
  {
   "cell_type": "code",
   "execution_count": 32,
   "metadata": {},
   "outputs": [],
   "source": [
    "def GetEnergy(sigma):\n",
    "    \n",
    "    n = sigma.shape[0]\n",
    "    m = sigma.shape[1]\n",
    "    \n",
    "    energy = 0.\n",
    "     \n",
    "    for i in range(n):\n",
    "        for j in range(m):\n",
    "            \n",
    "            right = i+1\n",
    "            if i == n-1:\n",
    "                right = 0\n",
    "                \n",
    "            left = i-1\n",
    "           \n",
    "            up = j+1\n",
    "            if j == m-1:\n",
    "                up = 0\n",
    "                \n",
    "            down = j-1\n",
    "            \n",
    "            energy += 0.5*J*sigma[i,j]*\\\n",
    "            (sigma[right,j]+sigma[left,j]+sigma[i,up]+sigma[i,down])\n",
    "    \n",
    "    return energy"
   ]
  },
  {
   "cell_type": "code",
   "execution_count": 33,
   "metadata": {},
   "outputs": [],
   "source": [
    "def GetMagnetization(sigma):\n",
    "    return np.sum(sigma.ravel())/float(M*N)"
   ]
  },
  {
   "cell_type": "code",
   "execution_count": 34,
   "metadata": {},
   "outputs": [
    {
     "name": "stdout",
     "output_type": "stream",
     "text": [
      "(-12.0, -0.04)\n"
     ]
    }
   ],
   "source": [
    "print(GetEnergy(sigma), GetMagnetization(sigma))"
   ]
  },
  {
   "cell_type": "code",
   "execution_count": 35,
   "metadata": {},
   "outputs": [],
   "source": [
    "# Implementamos metropolis\n",
    "\n",
    "def _ising_step(sigma, T):\n",
    "    \n",
    "    beta = 1./T\n",
    "    \n",
    "    current = sigma.copy()\n",
    "    energy1 = GetEnergy(current)\n",
    "    \n",
    "    # Calcular una posición en el array\n",
    "    x = randint(0,sigma.shape[0]-1)\n",
    "    y = randint(0,sigma.shape[1]-1)\n",
    "    \n",
    "    future = current.copy()\n",
    "    future[x,y] = current[x,y]*(-1)\n",
    "    \n",
    "    energy2 = GetEnergy(future)\n",
    "    \n",
    "    dE = energy2-energy1\n",
    "    \n",
    "    r =  np.random.rand()   \n",
    "    \n",
    "    if dE < 0.:\n",
    "        return future\n",
    "        \n",
    "    elif r < np.exp(- dE * beta):\n",
    "        return future\n",
    "    \n",
    "    else:\n",
    "        return current"
   ]
  },
  {
   "cell_type": "code",
   "execution_count": 36,
   "metadata": {},
   "outputs": [
    {
     "name": "stderr",
     "output_type": "stream",
     "text": [
      "100%|██████████| 20000/20000 [00:08<00:00, 2331.97it/s]\n"
     ]
    }
   ],
   "source": [
    "Energy = []\n",
    "Energy2 = []\n",
    "Magnetization = []\n",
    "\n",
    "T = 3.0\n",
    "Ntoys = 20000\n",
    "\n",
    "sigma_ = sigma.copy()\n",
    "\n",
    "for i in tqdm(range(Ntoys)):\n",
    "    sigma_ = _ising_step(sigma_,T)\n",
    "    \n",
    "    if i >= 5000:\n",
    "        energy = GetEnergy(sigma_)\n",
    "        magnetization = GetMagnetization(sigma_)\n",
    "        Energy.append(energy)\n",
    "        Energy2.append(energy**2)\n",
    "        Magnetization.append(magnetization)"
   ]
  },
  {
   "cell_type": "code",
   "execution_count": 37,
   "metadata": {},
   "outputs": [
    {
     "name": "stdout",
     "output_type": "stream",
     "text": [
      "(-0.8755226666666667, 0.282592, 0.7187639276246904)\n"
     ]
    }
   ],
   "source": [
    "e = np.average(Energy)\n",
    "e2 = np.average(Energy2)\n",
    "m = np.average(Magnetization)\n",
    "\n",
    "cv = (e2 - e**2)/(float(M*N)*T**2)\n",
    "\n",
    "print(e/float(M*N),m,cv)"
   ]
  },
  {
   "cell_type": "code",
   "execution_count": 38,
   "metadata": {},
   "outputs": [
    {
     "data": {
      "text/plain": [
       "[<matplotlib.lines.Line2D at 0x7f52f65a4d90>]"
      ]
     },
     "execution_count": 38,
     "metadata": {},
     "output_type": "execute_result"
    },
    {
     "data": {
      "image/png": "[encoded data removed]",
      "text/plain": [
       "<Figure size 432x288 with 1 Axes>"
      ]
     },
     "metadata": {
      "needs_background": "light"
     },
     "output_type": "display_data"
    }
   ],
   "source": [
    "plt.figure()\n",
    "plt.plot(Energy)"
   ]
  },
  {
   "cell_type": "code",
   "execution_count": 39,
   "metadata": {},
   "outputs": [
    {
     "data": {
      "text/plain": [
       "(array([ 143.,  135.,  183.,  353., 1132., 2540., 3474., 4307., 2238.,\n",
       "         495.]),\n",
       " array([-192., -176., -160., -144., -128., -112.,  -96.,  -80.,  -64.,\n",
       "         -48.,  -32.]),\n",
       " <a list of 10 Patch objects>)"
      ]
     },
     "execution_count": 39,
     "metadata": {},
     "output_type": "execute_result"
    },
    {
     "data": {
      "image/png": "[encoded data removed]",
      "text/plain": [
       "<Figure size 432x288 with 1 Axes>"
      ]
     },
     "metadata": {
      "needs_background": "light"
     },
     "output_type": "display_data"
    }
   ],
   "source": [
    "plt.figure()\n",
    "plt.hist(Energy, bins=10)"
   ]
  },
  {
   "cell_type": "code",
   "execution_count": 40,
   "metadata": {},
   "outputs": [
    {
     "data": {
      "text/plain": [
       "[<matplotlib.lines.Line2D at 0x7f52f64361d0>]"
      ]
     },
     "execution_count": 40,
     "metadata": {},
     "output_type": "execute_result"
    },
    {
     "data": {
      "image/png": "[encoded data removed]",
      "text/plain": [
       "<Figure size 432x288 with 1 Axes>"
      ]
     },
     "metadata": {
      "needs_background": "light"
     },
     "output_type": "display_data"
    }
   ],
   "source": [
    "plt.figure()\n",
    "plt.plot(Magnetization)"
   ]
  },
  {
   "cell_type": "code",
   "execution_count": 41,
   "metadata": {},
   "outputs": [
    {
     "data": {
      "text/plain": [
       "(array([ 679.,  976., 1058., 1570., 2299., 3111., 2401., 1860.,  610.,\n",
       "         436.]),\n",
       " array([-0.44 , -0.298, -0.156, -0.014,  0.128,  0.27 ,  0.412,  0.554,\n",
       "         0.696,  0.838,  0.98 ]),\n",
       " <a list of 10 Patch objects>)"
      ]
     },
     "execution_count": 41,
     "metadata": {},
     "output_type": "execute_result"
    },
    {
     "data": {
      "image/png": "[encoded data removed]",
      "text/plain": [
       "<Figure size 432x288 with 1 Axes>"
      ]
     },
     "metadata": {
      "needs_background": "light"
     },
     "output_type": "display_data"
    }
   ],
   "source": [
    "plt.figure()\n",
    "plt.hist(Magnetization, bins=10)"
   ]
  },
  {
   "cell_type": "code",
   "execution_count": 47,
   "metadata": {},
   "outputs": [],
   "source": [
    "# Ahora vamos a variar las temperaturas\n",
    "\n",
    "def GetValues(T, Ntoys = 20000):\n",
    "    \n",
    "    sigma_ = sigma.copy()\n",
    "    \n",
    "    Energy = []\n",
    "    Energy2 = []\n",
    "    Magnetization = []\n",
    "    \n",
    "    for i in tqdm(range(Ntoys)):\n",
    "   \n",
    "        sigma_ = _ising_step(sigma_,T)\n",
    "\n",
    "        if i >= 5000:\n",
    "            energy = GetEnergy(sigma_)\n",
    "            magnetization = GetMagnetization(sigma_)\n",
    "            Energy.append(energy)\n",
    "            Energy2.append(energy**2)\n",
    "            Magnetization.append(magnetization)\n",
    "            \n",
    "    e = np.average(Energy)\n",
    "    e2 = np.average(Energy2)\n",
    "    m = np.average(Magnetization)\n",
    "\n",
    "    cv = (e2 - e**2)/(float(M*N)*T**2)   \n",
    "    \n",
    "    return e/float(M*N),np.abs(m),cv    "
   ]
  },
  {
   "cell_type": "code",
   "execution_count": 48,
   "metadata": {},
   "outputs": [
    {
     "name": "stderr",
     "output_type": "stream",
     "text": [
      "100%|██████████| 20000/20000 [00:08<00:00, 2274.16it/s]\n",
      "  2%|▏         | 315/20000 [00:00<00:06, 3143.99it/s]"
     ]
    },
    {
     "name": "stdout",
     "output_type": "stream",
     "text": [
      "(1.0, -1.9974826666666667, 0.9992839999999998, 0.023664969955570995)\n"
     ]
    },
    {
     "name": "stderr",
     "output_type": "stream",
     "text": [
      "100%|██████████| 20000/20000 [00:08<00:00, 2285.64it/s]\n",
      "  2%|▏         | 312/20000 [00:00<00:06, 3119.01it/s]"
     ]
    },
    {
     "name": "stdout",
     "output_type": "stream",
     "text": [
      "(1.2, -1.9895866666666666, 0.9972533333333333, 0.05770665432100941)\n"
     ]
    },
    {
     "name": "stderr",
     "output_type": "stream",
     "text": [
      "100%|██████████| 20000/20000 [00:08<00:00, 2357.89it/s]\n",
      "  2%|▏         | 321/20000 [00:00<00:06, 3206.25it/s]"
     ]
    },
    {
     "name": "stdout",
     "output_type": "stream",
     "text": [
      "(1.4, -1.9768879999999998, 0.9939453333333333, 0.09884738721091116)\n"
     ]
    },
    {
     "name": "stderr",
     "output_type": "stream",
     "text": [
      "100%|██████████| 20000/20000 [00:08<00:00, 2362.35it/s]\n",
      "  1%|▏         | 296/20000 [00:00<00:06, 2959.29it/s]"
     ]
    },
    {
     "name": "stdout",
     "output_type": "stream",
     "text": [
      "(1.5999999999999999, -1.9323706666666667, 0.9811, 0.2458679663889143)\n"
     ]
    },
    {
     "name": "stderr",
     "output_type": "stream",
     "text": [
      "100%|██████████| 20000/20000 [00:08<00:00, 2305.40it/s]\n",
      "  2%|▏         | 314/20000 [00:00<00:06, 3136.77it/s]"
     ]
    },
    {
     "name": "stdout",
     "output_type": "stream",
     "text": [
      "(1.7999999999999998, -1.8755600000000001, 0.9600293333333335, 0.3954376460905123)\n"
     ]
    },
    {
     "name": "stderr",
     "output_type": "stream",
     "text": [
      "100%|██████████| 20000/20000 [00:08<00:00, 2333.72it/s]\n",
      "  2%|▏         | 320/20000 [00:00<00:06, 3196.23it/s]"
     ]
    },
    {
     "name": "stdout",
     "output_type": "stream",
     "text": [
      "(1.9999999999999998, -1.7462186666666668, 0.9182026666666667, 0.5259452046222124)\n"
     ]
    },
    {
     "name": "stderr",
     "output_type": "stream",
     "text": [
      "100%|██████████| 20000/20000 [00:09<00:00, 2191.87it/s]\n",
      "  2%|▏         | 308/20000 [00:00<00:06, 3079.20it/s]"
     ]
    },
    {
     "name": "stdout",
     "output_type": "stream",
     "text": [
      "(2.1999999999999997, -1.4822026666666668, 0.7584413333333333, 0.9470292340128489)\n"
     ]
    },
    {
     "name": "stderr",
     "output_type": "stream",
     "text": [
      "100%|██████████| 20000/20000 [00:10<00:00, 1947.05it/s]\n",
      "  1%|▏         | 276/20000 [00:00<00:07, 2755.23it/s]"
     ]
    },
    {
     "name": "stdout",
     "output_type": "stream",
     "text": [
      "(2.3999999999999995, -1.1633946666666666, 0.256656, 1.2376128976543197)\n"
     ]
    },
    {
     "name": "stderr",
     "output_type": "stream",
     "text": [
      "100%|██████████| 20000/20000 [00:09<00:00, 2066.82it/s]\n",
      "  1%|▏         | 260/20000 [00:00<00:07, 2599.66it/s]"
     ]
    },
    {
     "name": "stdout",
     "output_type": "stream",
     "text": [
      "(2.5999999999999996, -1.167616, 0.5212493333333333, 1.1568319015384603)\n"
     ]
    },
    {
     "name": "stderr",
     "output_type": "stream",
     "text": [
      "100%|██████████| 20000/20000 [00:11<00:00, 1776.07it/s]"
     ]
    },
    {
     "name": "stdout",
     "output_type": "stream",
     "text": [
      "(2.8, -0.888696, 0.15170533333333333, 0.4470613042176863)\n"
     ]
    },
    {
     "name": "stderr",
     "output_type": "stream",
     "text": [
      "\n"
     ]
    }
   ],
   "source": [
    "T = np.arange(1.0,3.0,0.2)\n",
    "\n",
    "Energy = np.zeros(len(T))\n",
    "Mag = np.zeros(len(T))\n",
    "Cv = np.zeros(len(T))\n",
    "\n",
    "for t in range(len(T)):\n",
    "    Energy[t], Mag[t], Cv[t] = GetValues(T[t])\n",
    "    print(T[t], Energy[t], abs(Mag[t]), Cv[t])"
   ]
  },
  {
   "cell_type": "code",
   "execution_count": 49,
   "metadata": {},
   "outputs": [
    {
     "data": {
      "text/plain": [
       "<matplotlib.collections.PathCollection at 0x7f52f6279bd0>"
      ]
     },
     "execution_count": 49,
     "metadata": {},
     "output_type": "execute_result"
    },
    {
     "data": {
      "image/png": "[encoded data removed]",
      "text/plain": [
       "<Figure size 432x288 with 1 Axes>"
      ]
     },
     "metadata": {
      "needs_background": "light"
     },
     "output_type": "display_data"
    }
   ],
   "source": [
    "plt.figure()\n",
    "plt.scatter(T,Energy)"
   ]
  },
  {
   "cell_type": "code",
   "execution_count": 50,
   "metadata": {},
   "outputs": [
    {
     "data": {
      "text/plain": [
       "<matplotlib.collections.PathCollection at 0x7f52f6359310>"
      ]
     },
     "execution_count": 50,
     "metadata": {},
     "output_type": "execute_result"
    },
    {
     "data": {
      "image/png": "[encoded data removed]",
      "text/plain": [
       "<Figure size 432x288 with 1 Axes>"
      ]
     },
     "metadata": {
      "needs_background": "light"
     },
     "output_type": "display_data"
    }
   ],
   "source": [
    "plt.figure()\n",
    "plt.scatter(T,Mag)"
   ]
  },
  {
   "cell_type": "code",
   "execution_count": 51,
   "metadata": {},
   "outputs": [
    {
     "data": {
      "text/plain": [
       "<matplotlib.collections.PathCollection at 0x7f52f62525d0>"
      ]
     },
     "execution_count": 51,
     "metadata": {},
     "output_type": "execute_result"
    },
    {
     "data": {
      "image/png": "[encoded data removed]",
      "text/plain": [
       "<Figure size 432x288 with 1 Axes>"
      ]
     },
     "metadata": {
      "needs_background": "light"
     },
     "output_type": "display_data"
    }
   ],
   "source": [
    "plt.figure()\n",
    "plt.scatter(T,Cv)"
   ]
  }
 ],
 "metadata": {
  "kernelspec": {
   "display_name": "Python 3",
   "language": "python",
   "name": "python3"
  },
  "language_info": {
   "codemirror_mode": {
    "name": "ipython",
    "version": 2
   },
   "file_extension": ".py",
   "mimetype": "text/x-python",
   "name": "python",
   "nbconvert_exporter": "python",
   "pygments_lexer": "ipython2",
   "version": "2.7.16"
  }
 },
 "nbformat": 4,
 "nbformat_minor": 2
}
