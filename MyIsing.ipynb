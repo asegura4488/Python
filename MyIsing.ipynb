{
 "cells": [
  {
   "cell_type": "code",
   "execution_count": 1,
   "metadata": {},
   "outputs": [],
   "source": [
    "import numpy as np\n",
    "import matplotlib.pyplot as plt\n",
    "from random import randint\n",
    "from tqdm import tqdm "
   ]
  },
  {
   "cell_type": "code",
   "execution_count": 2,
   "metadata": {},
   "outputs": [],
   "source": [
    "J = -1"
   ]
  },
  {
   "cell_type": "code",
   "execution_count": 3,
   "metadata": {},
   "outputs": [],
   "source": [
    "# Definiendo el array inicial\n",
    "\n",
    "def random_spin_field(N,M):\n",
    "    return np.random.choice([-1,1], size=(N,M))"
   ]
  },
  {
   "cell_type": "code",
   "execution_count": 4,
   "metadata": {},
   "outputs": [
    {
     "name": "stdout",
     "output_type": "stream",
     "text": [
      "[[ 1  1 -1  1 -1 -1  1 -1 -1  1]\n",
      " [-1 -1 -1  1  1  1  1  1  1 -1]\n",
      " [ 1 -1  1  1 -1  1  1 -1  1  1]\n",
      " [ 1  1  1  1 -1  1 -1  1 -1 -1]\n",
      " [ 1 -1  1  1  1  1 -1 -1 -1 -1]\n",
      " [ 1  1 -1 -1 -1 -1  1 -1  1  1]\n",
      " [-1 -1 -1 -1 -1  1 -1  1 -1 -1]\n",
      " [ 1  1  1  1 -1  1 -1  1  1  1]\n",
      " [-1 -1 -1  1  1 -1  1 -1 -1 -1]\n",
      " [ 1 -1 -1 -1 -1 -1 -1  1  1 -1]]\n"
     ]
    }
   ],
   "source": [
    "N = 10\n",
    "M = 10\n",
    "sigma = random_spin_field(N,M)\n",
    "print(sigma)"
   ]
  },
  {
   "cell_type": "code",
   "execution_count": 5,
   "metadata": {},
   "outputs": [],
   "source": [
    "def GetEnergy(sigma, B):\n",
    "    \n",
    "    n = sigma.shape[0]\n",
    "    m = sigma.shape[1]\n",
    "    \n",
    "    energy = 0.\n",
    "     \n",
    "    for i in range(n):\n",
    "        for j in range(m):\n",
    "            \n",
    "            right = i+1\n",
    "            if i == n-1:\n",
    "                right = 0\n",
    "                \n",
    "            left = i-1\n",
    "           \n",
    "            up = j+1\n",
    "            if j == m-1:\n",
    "                up = 0\n",
    "                \n",
    "            down = j-1\n",
    "            \n",
    "            energy += 0.5*J*sigma[i,j]*\\\n",
    "            (sigma[right,j]+sigma[left,j]+sigma[i,up]+sigma[i,down])\n",
    "            \n",
    "            # Magnetic Field\n",
    "            energy -= 0.5*B*sigma[i,j]\n",
    "    \n",
    "    return energy"
   ]
  },
  {
   "cell_type": "code",
   "execution_count": 6,
   "metadata": {},
   "outputs": [],
   "source": [
    "def GetMagnetization(sigma):\n",
    "    return np.sum(sigma.ravel())/float(M*N)"
   ]
  },
  {
   "cell_type": "code",
   "execution_count": 7,
   "metadata": {},
   "outputs": [
    {
     "name": "stdout",
     "output_type": "stream",
     "text": [
      "(12.0, 0.0)\n"
     ]
    }
   ],
   "source": [
    "print(GetEnergy(sigma,0), GetMagnetization(sigma))"
   ]
  },
  {
   "cell_type": "code",
   "execution_count": 8,
   "metadata": {},
   "outputs": [],
   "source": [
    "# Implementamos metropolis\n",
    "\n",
    "def _ising_step(sigma, T, B):\n",
    "    \n",
    "    beta = 1./T\n",
    "    \n",
    "    current = sigma.copy()\n",
    "    energy1 = GetEnergy(current, B)\n",
    "    \n",
    "    # Calcular una posición en el array\n",
    "    x = randint(0,sigma.shape[0]-1)\n",
    "    y = randint(0,sigma.shape[1]-1)\n",
    "    \n",
    "    future = current.copy()\n",
    "    future[x,y] = current[x,y]*(-1)\n",
    "    \n",
    "    energy2 = GetEnergy(future, B)\n",
    "    \n",
    "    dE = energy2-energy1\n",
    "    \n",
    "    r =  np.random.rand()   \n",
    "    \n",
    "    if dE < 0.:\n",
    "        return future\n",
    "        \n",
    "    elif r < np.exp(- dE * beta):\n",
    "        return future\n",
    "    \n",
    "    else:\n",
    "        return current"
   ]
  },
  {
   "cell_type": "code",
   "execution_count": 9,
   "metadata": {},
   "outputs": [
    {
     "name": "stderr",
     "output_type": "stream",
     "text": [
      "100%|██████████| 20000/20000 [00:10<00:00, 1846.63it/s]\n"
     ]
    }
   ],
   "source": [
    "Energy = []\n",
    "Energy2 = []\n",
    "Magnetization = []\n",
    "\n",
    "T = 2.0\n",
    "B = 0.\n",
    "Ntoys = 20000\n",
    "\n",
    "sigma_ = sigma.copy()\n",
    "\n",
    "for i in tqdm(range(Ntoys)):\n",
    "    sigma_ = _ising_step(sigma_,T,B)\n",
    "    \n",
    "    if i >= 5000:\n",
    "        energy = GetEnergy(sigma_,B)\n",
    "        magnetization = GetMagnetization(sigma_)\n",
    "        \n",
    "        Energy.append(energy)\n",
    "        Energy2.append(energy**2)\n",
    "        Magnetization.append(magnetization)"
   ]
  },
  {
   "cell_type": "code",
   "execution_count": 10,
   "metadata": {},
   "outputs": [
    {
     "name": "stdout",
     "output_type": "stream",
     "text": [
      "(-1.71284, 0.8845026666666668, 0.9522463599999992)\n"
     ]
    }
   ],
   "source": [
    "e = np.average(Energy)\n",
    "e2 = np.average(Energy2)\n",
    "m = np.average(Magnetization)\n",
    "\n",
    "cv = (e2 - e**2)/(T**2)\n",
    "\n",
    "print(e/float(M*N),m,cv/float(M*N))"
   ]
  },
  {
   "cell_type": "code",
   "execution_count": 11,
   "metadata": {},
   "outputs": [
    {
     "data": {
      "text/plain": [
       "[<matplotlib.lines.Line2D at 0x7ffa28adbb10>]"
      ]
     },
     "execution_count": 11,
     "metadata": {},
     "output_type": "execute_result"
    },
    {
     "data": {
      "image/png": "[encoded data removed]",
      "text/plain": [
       "<Figure size 432x288 with 1 Axes>"
      ]
     },
     "metadata": {
      "needs_background": "light"
     },
     "output_type": "display_data"
    }
   ],
   "source": [
    "plt.figure()\n",
    "plt.plot(Energy)"
   ]
  },
  {
   "cell_type": "code",
   "execution_count": 12,
   "metadata": {},
   "outputs": [
    {
     "data": {
      "text/plain": [
       "(array([3394., 2093., 2852., 1855., 1605., 1928.,  700.,  502.,   63.,\n",
       "           8.]),\n",
       " array([-200. , -190.4, -180.8, -171.2, -161.6, -152. , -142.4, -132.8,\n",
       "        -123.2, -113.6, -104. ]),\n",
       " <a list of 10 Patch objects>)"
      ]
     },
     "execution_count": 12,
     "metadata": {},
     "output_type": "execute_result"
    },
    {
     "data": {
      "image/png": "[encoded data removed]",
      "text/plain": [
       "<Figure size 432x288 with 1 Axes>"
      ]
     },
     "metadata": {
      "needs_background": "light"
     },
     "output_type": "display_data"
    }
   ],
   "source": [
    "plt.figure()\n",
    "plt.hist(Energy, bins=10)"
   ]
  },
  {
   "cell_type": "code",
   "execution_count": 13,
   "metadata": {},
   "outputs": [
    {
     "data": {
      "text/plain": [
       "[<matplotlib.lines.Line2D at 0x7ffa289b2650>]"
      ]
     },
     "execution_count": 13,
     "metadata": {},
     "output_type": "execute_result"
    },
    {
     "data": {
      "image/png": "[encoded data removed]",
      "text/plain": [
       "<Figure size 432x288 with 1 Axes>"
      ]
     },
     "metadata": {
      "needs_background": "light"
     },
     "output_type": "display_data"
    }
   ],
   "source": [
    "plt.figure()\n",
    "plt.plot(Magnetization)"
   ]
  },
  {
   "cell_type": "code",
   "execution_count": 14,
   "metadata": {},
   "outputs": [
    {
     "data": {
      "text/plain": [
       "(array([ 129.,  198.,  422.,  302.,  806.,  616.,  770., 2455., 4169.,\n",
       "        5133.]),\n",
       " array([0.46 , 0.514, 0.568, 0.622, 0.676, 0.73 , 0.784, 0.838, 0.892,\n",
       "        0.946, 1.   ]),\n",
       " <a list of 10 Patch objects>)"
      ]
     },
     "execution_count": 14,
     "metadata": {},
     "output_type": "execute_result"
    },
    {
     "data": {
      "image/png": "[encoded data removed]",
      "text/plain": [
       "<Figure size 432x288 with 1 Axes>"
      ]
     },
     "metadata": {
      "needs_background": "light"
     },
     "output_type": "display_data"
    }
   ],
   "source": [
    "plt.figure()\n",
    "plt.hist(Magnetization, bins=10)"
   ]
  },
  {
   "cell_type": "code",
   "execution_count": 15,
   "metadata": {},
   "outputs": [],
   "source": [
    "# Ahora vamos a variar las temperaturas\n",
    "\n",
    "def GetValues(T, B, Ntoys = 10000):\n",
    "    \n",
    "    sigma_ = sigma.copy()\n",
    "    \n",
    "    Energy = []\n",
    "    Energy2 = []\n",
    "    Magnetization = []\n",
    "    \n",
    "    for i in tqdm(range(Ntoys)):\n",
    "   \n",
    "        sigma_ = _ising_step(sigma_,T,B)\n",
    "\n",
    "        if i >= 3000:\n",
    "            energy = GetEnergy(sigma_, B)\n",
    "            magnetization = GetMagnetization(sigma_)\n",
    "            Energy.append(energy)\n",
    "            Energy2.append(energy**2)\n",
    "            Magnetization.append(magnetization)\n",
    "            \n",
    "    e = np.average(Energy)\n",
    "    e2 = np.average(Energy2)\n",
    "    m = np.average(Magnetization)\n",
    "\n",
    "    cv = (e2 - e**2)/T**2   \n",
    "    \n",
    "    return e/float(M*N),m,cv/float(M*N)   "
   ]
  },
  {
   "cell_type": "code",
   "execution_count": 20,
   "metadata": {},
   "outputs": [
    {
     "name": "stderr",
     "output_type": "stream",
     "text": [
      "100%|██████████| 10000/10000 [00:05<00:00, 1856.25it/s]\n",
      "  3%|▎         | 258/10000 [00:00<00:03, 2573.36it/s]"
     ]
    },
    {
     "name": "stdout",
     "output_type": "stream",
     "text": [
      "(2.0, -1.7846742857142857, 0.9241742857142856, 0.48912234775510116)\n"
     ]
    },
    {
     "name": "stderr",
     "output_type": "stream",
     "text": [
      "100%|██████████| 10000/10000 [00:05<00:00, 1890.69it/s]\n",
      "  2%|▏         | 238/10000 [00:00<00:04, 2375.51it/s]"
     ]
    },
    {
     "name": "stdout",
     "output_type": "stream",
     "text": [
      "(2.1, -1.5318971428571428, 0.7913914285714285, 1.3269932165301586)\n"
     ]
    },
    {
     "name": "stderr",
     "output_type": "stream",
     "text": [
      "100%|██████████| 10000/10000 [00:05<00:00, 1887.29it/s]\n",
      "  2%|▏         | 248/10000 [00:00<00:03, 2476.65it/s]"
     ]
    },
    {
     "name": "stdout",
     "output_type": "stream",
     "text": [
      "(2.2, -1.4104057142857145, 0.6848457142857143, 1.6646105306122343)\n"
     ]
    },
    {
     "name": "stderr",
     "output_type": "stream",
     "text": [
      "100%|██████████| 10000/10000 [00:05<00:00, 1895.28it/s]\n",
      "  2%|▏         | 245/10000 [00:00<00:03, 2446.06it/s]"
     ]
    },
    {
     "name": "stdout",
     "output_type": "stream",
     "text": [
      "(2.3000000000000003, -1.4594628571428572, 0.7617428571428573, 0.8032178783225891)\n"
     ]
    },
    {
     "name": "stderr",
     "output_type": "stream",
     "text": [
      "100%|██████████| 10000/10000 [00:05<00:00, 1730.36it/s]\n",
      "  3%|▎         | 253/10000 [00:00<00:03, 2529.16it/s]"
     ]
    },
    {
     "name": "stdout",
     "output_type": "stream",
     "text": [
      "(2.4000000000000004, -1.42908, 0.7501228571428571, 1.0212194325396868)\n"
     ]
    },
    {
     "name": "stderr",
     "output_type": "stream",
     "text": [
      "100%|██████████| 10000/10000 [00:05<00:00, 1740.58it/s]\n",
      "  3%|▎         | 256/10000 [00:00<00:03, 2558.77it/s]"
     ]
    },
    {
     "name": "stdout",
     "output_type": "stream",
     "text": [
      "(2.5000000000000004, -1.2245771428571428, 0.50704, 1.1704990819265275)\n"
     ]
    },
    {
     "name": "stderr",
     "output_type": "stream",
     "text": [
      "100%|██████████| 10000/10000 [00:05<00:00, 1828.34it/s]\n",
      "  2%|▏         | 245/10000 [00:00<00:03, 2447.55it/s]"
     ]
    },
    {
     "name": "stdout",
     "output_type": "stream",
     "text": [
      "(2.6000000000000005, -0.9108514285714285, 0.06446571428571428, 0.4322192000966062)\n"
     ]
    },
    {
     "name": "stderr",
     "output_type": "stream",
     "text": [
      "100%|██████████| 10000/10000 [00:05<00:00, 1876.43it/s]\n",
      "  2%|▏         | 242/10000 [00:00<00:04, 2419.56it/s]"
     ]
    },
    {
     "name": "stdout",
     "output_type": "stream",
     "text": [
      "(2.7000000000000006, -1.0057314285714285, 0.3879714285714285, 0.7233871351865834)\n"
     ]
    },
    {
     "name": "stderr",
     "output_type": "stream",
     "text": [
      "100%|██████████| 10000/10000 [00:05<00:00, 1874.83it/s]\n",
      "  2%|▏         | 234/10000 [00:00<00:04, 2338.01it/s]"
     ]
    },
    {
     "name": "stdout",
     "output_type": "stream",
     "text": [
      "(2.8000000000000007, -1.0391599999999999, 0.4211828571428572, 0.6108160728862994)\n"
     ]
    },
    {
     "name": "stderr",
     "output_type": "stream",
     "text": [
      "100%|██████████| 10000/10000 [00:05<00:00, 1880.76it/s]"
     ]
    },
    {
     "name": "stdout",
     "output_type": "stream",
     "text": [
      "(2.900000000000001, -0.7914057142857144, 0.09792571428571427, 0.5534713228663626)\n"
     ]
    },
    {
     "name": "stderr",
     "output_type": "stream",
     "text": [
      "\n"
     ]
    }
   ],
   "source": [
    "T = np.arange(2.0,3.0,0.1)\n",
    "\n",
    "Energy = np.zeros(len(T))\n",
    "Mag = np.zeros(len(T))\n",
    "Cv = np.zeros(len(T))\n",
    "\n",
    "for t in range(len(T)):\n",
    "    Energy[t], Mag[t], Cv[t] = GetValues(T[t],0)\n",
    "    print(T[t], Energy[t], abs(Mag[t]), Cv[t])"
   ]
  },
  {
   "cell_type": "code",
   "execution_count": 21,
   "metadata": {},
   "outputs": [
    {
     "data": {
      "text/plain": [
       "<matplotlib.collections.PathCollection at 0x7ffa287bebd0>"
      ]
     },
     "execution_count": 21,
     "metadata": {},
     "output_type": "execute_result"
    },
    {
     "data": {
      "image/png": "[encoded data removed]",
      "text/plain": [
       "<Figure size 432x288 with 1 Axes>"
      ]
     },
     "metadata": {
      "needs_background": "light"
     },
     "output_type": "display_data"
    }
   ],
   "source": [
    "plt.figure()\n",
    "plt.scatter(T,Energy)"
   ]
  },
  {
   "cell_type": "code",
   "execution_count": 22,
   "metadata": {},
   "outputs": [
    {
     "data": {
      "text/plain": [
       "<matplotlib.collections.PathCollection at 0x7ffa28738450>"
      ]
     },
     "execution_count": 22,
     "metadata": {},
     "output_type": "execute_result"
    },
    {
     "data": {
      "image/png": "[encoded data removed]",
      "text/plain": [
       "<Figure size 432x288 with 1 Axes>"
      ]
     },
     "metadata": {
      "needs_background": "light"
     },
     "output_type": "display_data"
    }
   ],
   "source": [
    "plt.figure()\n",
    "plt.scatter(T,Mag)"
   ]
  },
  {
   "cell_type": "code",
   "execution_count": 23,
   "metadata": {},
   "outputs": [
    {
     "data": {
      "text/plain": [
       "<matplotlib.collections.PathCollection at 0x7ffa286ab6d0>"
      ]
     },
     "execution_count": 23,
     "metadata": {},
     "output_type": "execute_result"
    },
    {
     "data": {
      "image/png": "[encoded data removed]",
      "text/plain": [
       "<Figure size 432x288 with 1 Axes>"
      ]
     },
     "metadata": {
      "needs_background": "light"
     },
     "output_type": "display_data"
    }
   ],
   "source": [
    "plt.figure()\n",
    "plt.scatter(T,Cv)"
   ]
  },
  {
   "cell_type": "markdown",
   "metadata": {},
   "source": [
    "# Ahora estudiemos el efecto del campo magnetico"
   ]
  },
  {
   "cell_type": "code",
   "execution_count": 32,
   "metadata": {},
   "outputs": [
    {
     "name": "stderr",
     "output_type": "stream",
     "text": [
      "100%|██████████| 10000/10000 [00:06<00:00, 1434.03it/s]\n",
      "  2%|▏         | 187/10000 [00:00<00:05, 1859.37it/s]"
     ]
    },
    {
     "name": "stdout",
     "output_type": "stream",
     "text": [
      "(-1.0, -1.7372442857142858, -0.7707628571428572)\n"
     ]
    },
    {
     "name": "stderr",
     "output_type": "stream",
     "text": [
      "100%|██████████| 10000/10000 [00:06<00:00, 1487.93it/s]\n",
      "  2%|▏         | 211/10000 [00:00<00:04, 2102.52it/s]"
     ]
    },
    {
     "name": "stdout",
     "output_type": "stream",
     "text": [
      "(-0.8, -1.635209142857145, -0.7556657142857143)\n"
     ]
    },
    {
     "name": "stderr",
     "output_type": "stream",
     "text": [
      "100%|██████████| 10000/10000 [00:06<00:00, 1486.09it/s]\n",
      "  2%|▏         | 215/10000 [00:00<00:04, 2149.96it/s]"
     ]
    },
    {
     "name": "stdout",
     "output_type": "stream",
     "text": [
      "(-0.6000000000000001, -1.376902857142857, -0.6673142857142859)\n"
     ]
    },
    {
     "name": "stderr",
     "output_type": "stream",
     "text": [
      "100%|██████████| 10000/10000 [00:06<00:00, 1515.43it/s]\n",
      "  2%|▏         | 197/10000 [00:00<00:05, 1956.73it/s]"
     ]
    },
    {
     "name": "stdout",
     "output_type": "stream",
     "text": [
      "(-0.40000000000000013, -1.1405017142857148, -0.5053942857142858)\n"
     ]
    },
    {
     "name": "stderr",
     "output_type": "stream",
     "text": [
      "100%|██████████| 10000/10000 [00:07<00:00, 1420.10it/s]\n",
      "  2%|▏         | 203/10000 [00:00<00:04, 2028.96it/s]"
     ]
    },
    {
     "name": "stdout",
     "output_type": "stream",
     "text": [
      "(-0.20000000000000018, -0.9754305714285708, -0.3969914285714286)\n"
     ]
    },
    {
     "name": "stderr",
     "output_type": "stream",
     "text": [
      "100%|██████████| 10000/10000 [00:06<00:00, 1435.46it/s]\n",
      "  2%|▏         | 203/10000 [00:00<00:04, 2019.20it/s]"
     ]
    },
    {
     "name": "stdout",
     "output_type": "stream",
     "text": [
      "(-2.220446049250313e-16, -0.7582057142857143, -0.11215714285714287)\n"
     ]
    },
    {
     "name": "stderr",
     "output_type": "stream",
     "text": [
      "100%|██████████| 10000/10000 [00:06<00:00, 1476.77it/s]\n",
      "  2%|▏         | 211/10000 [00:00<00:04, 2109.49it/s]"
     ]
    },
    {
     "name": "stdout",
     "output_type": "stream",
     "text": [
      "(0.19999999999999973, -0.8762208571428569, 0.32786571428571426)\n"
     ]
    },
    {
     "name": "stderr",
     "output_type": "stream",
     "text": [
      "100%|██████████| 10000/10000 [00:06<00:00, 1472.30it/s]\n",
      "  2%|▏         | 202/10000 [00:00<00:04, 2016.37it/s]"
     ]
    },
    {
     "name": "stdout",
     "output_type": "stream",
     "text": [
      "(0.3999999999999997, -1.0560794285714292, 0.41834)\n"
     ]
    },
    {
     "name": "stderr",
     "output_type": "stream",
     "text": [
      "100%|██████████| 10000/10000 [00:06<00:00, 1484.76it/s]\n",
      "  2%|▏         | 207/10000 [00:00<00:04, 2066.32it/s]"
     ]
    },
    {
     "name": "stdout",
     "output_type": "stream",
     "text": [
      "(0.5999999999999996, -1.464035714285714, 0.7237571428571429)\n"
     ]
    },
    {
     "name": "stderr",
     "output_type": "stream",
     "text": [
      "100%|██████████| 10000/10000 [00:07<00:00, 1412.05it/s]\n",
      "  2%|▏         | 197/10000 [00:00<00:05, 1960.18it/s]"
     ]
    },
    {
     "name": "stdout",
     "output_type": "stream",
     "text": [
      "(0.7999999999999996, -1.6040525714285738, 0.7484457142857143)\n"
     ]
    },
    {
     "name": "stderr",
     "output_type": "stream",
     "text": [
      "100%|██████████| 10000/10000 [00:07<00:00, 1402.68it/s]"
     ]
    },
    {
     "name": "stdout",
     "output_type": "stream",
     "text": [
      "(0.9999999999999996, -1.8105785714285714, 0.7979)\n"
     ]
    },
    {
     "name": "stderr",
     "output_type": "stream",
     "text": [
      "\n"
     ]
    }
   ],
   "source": [
    "T = 3.0\n",
    "\n",
    "B = np.arange(-1.0,1.2,0.2)\n",
    "\n",
    "Energy = np.zeros(len(B))\n",
    "Mag = np.zeros(len(B))\n",
    "Cv = np.zeros(len(B))\n",
    "\n",
    "for b in range(len(B)):\n",
    "    Energy[b], Mag[b], Cv[b] = GetValues(T,B[b])\n",
    "    print(B[b], Energy[b], Mag[b])"
   ]
  },
  {
   "cell_type": "code",
   "execution_count": 33,
   "metadata": {},
   "outputs": [
    {
     "data": {
      "text/plain": [
       "<matplotlib.collections.PathCollection at 0x7ffa2842ab50>"
      ]
     },
     "execution_count": 33,
     "metadata": {},
     "output_type": "execute_result"
    },
    {
     "data": {
      "image/png": "[encoded data removed]",
      "text/plain": [
       "<Figure size 432x288 with 1 Axes>"
      ]
     },
     "metadata": {
      "needs_background": "light"
     },
     "output_type": "display_data"
    }
   ],
   "source": [
    "plt.figure()\n",
    "plt.scatter(B,Mag)"
   ]
  },
  {
   "cell_type": "code",
   "execution_count": null,
   "metadata": {},
   "outputs": [],
   "source": []
  }
 ],
 "metadata": {
  "kernelspec": {
   "display_name": "Python 3",
   "language": "python",
   "name": "python3"
  },
  "language_info": {
   "codemirror_mode": {
    "name": "ipython",
    "version": 2
   },
   "file_extension": ".py",
   "mimetype": "text/x-python",
   "name": "python",
   "nbconvert_exporter": "python",
   "pygments_lexer": "ipython2",
   "version": "2.7.16"
  }
 },
 "nbformat": 4,
 "nbformat_minor": 2
}
