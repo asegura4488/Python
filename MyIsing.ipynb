{
 "cells": [
  {
   "cell_type": "code",
   "execution_count": 1,
   "metadata": {},
   "outputs": [],
   "source": [
    "import numpy as np\n",
    "import matplotlib.pyplot as plt\n",
    "from random import randint\n",
    "from tqdm import tqdm "
   ]
  },
  {
   "cell_type": "code",
   "execution_count": 2,
   "metadata": {},
   "outputs": [],
   "source": [
    "J = -1\n",
    "B = 2."
   ]
  },
  {
   "cell_type": "code",
   "execution_count": 3,
   "metadata": {},
   "outputs": [],
   "source": [
    "# Definiendo el array inicial\n",
    "\n",
    "def random_spin_field(N,M):\n",
    "    return np.random.choice([-1,1], size=(N,M))"
   ]
  },
  {
   "cell_type": "code",
   "execution_count": 4,
   "metadata": {},
   "outputs": [
    {
     "name": "stdout",
     "output_type": "stream",
     "text": [
      "[[ 1 -1 -1 -1 -1  1  1  1 -1 -1]\n",
      " [ 1  1  1 -1 -1  1 -1 -1  1 -1]\n",
      " [ 1  1 -1 -1 -1  1  1  1  1 -1]\n",
      " [-1  1  1  1  1 -1  1 -1  1  1]\n",
      " [-1 -1  1 -1 -1 -1 -1  1 -1 -1]\n",
      " [-1  1  1 -1  1 -1 -1 -1  1  1]\n",
      " [-1  1  1 -1 -1  1  1  1 -1 -1]\n",
      " [ 1 -1 -1 -1 -1 -1  1  1  1  1]\n",
      " [-1  1  1 -1 -1  1  1 -1 -1  1]\n",
      " [-1 -1  1  1 -1 -1 -1  1 -1 -1]]\n"
     ]
    }
   ],
   "source": [
    "N = 10\n",
    "M = 10\n",
    "sigma = random_spin_field(N,M)\n",
    "print(sigma)"
   ]
  },
  {
   "cell_type": "code",
   "execution_count": 5,
   "metadata": {},
   "outputs": [],
   "source": [
    "def GetEnergy(sigma):\n",
    "    \n",
    "    n = sigma.shape[0]\n",
    "    m = sigma.shape[1]\n",
    "    \n",
    "    energy = 0.\n",
    "     \n",
    "    for i in range(n):\n",
    "        for j in range(m):\n",
    "            \n",
    "            right = i+1\n",
    "            if i == n-1:\n",
    "                right = 0\n",
    "                \n",
    "            left = i-1\n",
    "           \n",
    "            up = j+1\n",
    "            if j == m-1:\n",
    "                up = 0\n",
    "                \n",
    "            down = j-1\n",
    "            \n",
    "            energy += 0.5*J*sigma[i,j]*\\\n",
    "            (sigma[right,j]+sigma[left,j]+sigma[i,up]+sigma[i,down])\n",
    "    \n",
    "    return energy"
   ]
  },
  {
   "cell_type": "code",
   "execution_count": 6,
   "metadata": {},
   "outputs": [],
   "source": [
    "def GetMagnetization(sigma):\n",
    "    return np.sum(sigma.ravel())/float(M*N)"
   ]
  },
  {
   "cell_type": "code",
   "execution_count": 7,
   "metadata": {},
   "outputs": [
    {
     "name": "stdout",
     "output_type": "stream",
     "text": [
      "(4.0, -0.06)\n"
     ]
    }
   ],
   "source": [
    "print(GetEnergy(sigma), GetMagnetization(sigma))"
   ]
  },
  {
   "cell_type": "code",
   "execution_count": 8,
   "metadata": {},
   "outputs": [],
   "source": [
    "# Implementamos metropolis\n",
    "\n",
    "def _ising_step(sigma, T):\n",
    "    \n",
    "    beta = 1./T\n",
    "    \n",
    "    current = sigma.copy()\n",
    "    energy1 = GetEnergy(current)\n",
    "    \n",
    "    # Calcular una posición en el array\n",
    "    x = randint(0,sigma.shape[0]-1)\n",
    "    y = randint(0,sigma.shape[1]-1)\n",
    "    \n",
    "    future = current.copy()\n",
    "    future[x,y] = current[x,y]*(-1)\n",
    "    \n",
    "    energy2 = GetEnergy(future)\n",
    "    \n",
    "    dE = energy2-energy1\n",
    "    \n",
    "    r =  np.random.rand()   \n",
    "    \n",
    "    if dE < 0.:\n",
    "        return future\n",
    "        \n",
    "    elif r < np.exp(- dE * beta):\n",
    "        return future\n",
    "    \n",
    "    else:\n",
    "        return current"
   ]
  },
  {
   "cell_type": "code",
   "execution_count": 9,
   "metadata": {},
   "outputs": [
    {
     "name": "stderr",
     "output_type": "stream",
     "text": [
      "100%|██████████| 20000/20000 [00:08<00:00, 2261.44it/s]\n"
     ]
    }
   ],
   "source": [
    "Energy = []\n",
    "Energy2 = []\n",
    "Magnetization = []\n",
    "\n",
    "T = 2.0\n",
    "Ntoys = 20000\n",
    "\n",
    "sigma_ = sigma.copy()\n",
    "\n",
    "for i in tqdm(range(Ntoys)):\n",
    "    sigma_ = _ising_step(sigma_,T)\n",
    "    \n",
    "    if i >= 5000:\n",
    "        energy = GetEnergy(sigma_)\n",
    "        magnetization = GetMagnetization(sigma_)\n",
    "        \n",
    "        Energy.append(energy)\n",
    "        Energy2.append(energy**2)\n",
    "        Magnetization.append(magnetization)"
   ]
  },
  {
   "cell_type": "code",
   "execution_count": 10,
   "metadata": {},
   "outputs": [
    {
     "name": "stdout",
     "output_type": "stream",
     "text": [
      "(-1.7519413333333334, 0.9198173333333334, 0.689949780622228)\n"
     ]
    }
   ],
   "source": [
    "e = np.average(Energy)\n",
    "e2 = np.average(Energy2)\n",
    "m = np.average(Magnetization)\n",
    "\n",
    "cv = (e2 - e**2)/(T**2)\n",
    "\n",
    "print(e/float(M*N),m,cv/float(M*N))"
   ]
  },
  {
   "cell_type": "code",
   "execution_count": 11,
   "metadata": {},
   "outputs": [
    {
     "data": {
      "text/plain": [
       "[<matplotlib.lines.Line2D at 0x7fc8f4aa0b90>]"
      ]
     },
     "execution_count": 11,
     "metadata": {},
     "output_type": "execute_result"
    },
    {
     "data": {
      "image/png": "[encoded data removed]",
      "text/plain": [
       "<Figure size 432x288 with 1 Axes>"
      ]
     },
     "metadata": {
      "needs_background": "light"
     },
     "output_type": "display_data"
    }
   ],
   "source": [
    "plt.figure()\n",
    "plt.plot(Energy)"
   ]
  },
  {
   "cell_type": "code",
   "execution_count": 12,
   "metadata": {},
   "outputs": [
    {
     "data": {
      "text/plain": [
       "(array([1375., 2700., 3032., 2536., 2062., 1607.,  863.,  509.,  205.,\n",
       "         111.]),\n",
       " array([-200., -192., -184., -176., -168., -160., -152., -144., -136.,\n",
       "        -128., -120.]),\n",
       " <a list of 10 Patch objects>)"
      ]
     },
     "execution_count": 12,
     "metadata": {},
     "output_type": "execute_result"
    },
    {
     "data": {
      "image/png": "[encoded data removed]",
      "text/plain": [
       "<Figure size 432x288 with 1 Axes>"
      ]
     },
     "metadata": {
      "needs_background": "light"
     },
     "output_type": "display_data"
    }
   ],
   "source": [
    "plt.figure()\n",
    "plt.hist(Energy, bins=10)"
   ]
  },
  {
   "cell_type": "code",
   "execution_count": 13,
   "metadata": {},
   "outputs": [
    {
     "data": {
      "text/plain": [
       "[<matplotlib.lines.Line2D at 0x7fc8f498f090>]"
      ]
     },
     "execution_count": 13,
     "metadata": {},
     "output_type": "execute_result"
    },
    {
     "data": {
      "image/png": "[encoded data removed]",
      "text/plain": [
       "<Figure size 432x288 with 1 Axes>"
      ]
     },
     "metadata": {
      "needs_background": "light"
     },
     "output_type": "display_data"
    }
   ],
   "source": [
    "plt.figure()\n",
    "plt.plot(Magnetization)"
   ]
  },
  {
   "cell_type": "code",
   "execution_count": 14,
   "metadata": {},
   "outputs": [
    {
     "data": {
      "text/plain": [
       "(array([  65.,   89.,  487.,  486., 1252.,  823., 2335., 1486., 4239.,\n",
       "        3738.]),\n",
       " array([0.7 , 0.73, 0.76, 0.79, 0.82, 0.85, 0.88, 0.91, 0.94, 0.97, 1.  ]),\n",
       " <a list of 10 Patch objects>)"
      ]
     },
     "execution_count": 14,
     "metadata": {},
     "output_type": "execute_result"
    },
    {
     "data": {
      "image/png": "[encoded data removed]",
      "text/plain": [
       "<Figure size 432x288 with 1 Axes>"
      ]
     },
     "metadata": {
      "needs_background": "light"
     },
     "output_type": "display_data"
    }
   ],
   "source": [
    "plt.figure()\n",
    "plt.hist(Magnetization, bins=10)"
   ]
  },
  {
   "cell_type": "code",
   "execution_count": 15,
   "metadata": {},
   "outputs": [],
   "source": [
    "# Ahora vamos a variar las temperaturas\n",
    "\n",
    "def GetValues(T, Ntoys = 20000):\n",
    "    \n",
    "    sigma_ = sigma.copy()\n",
    "    \n",
    "    Energy = []\n",
    "    Energy2 = []\n",
    "    Magnetization = []\n",
    "    \n",
    "    for i in tqdm(range(Ntoys)):\n",
    "   \n",
    "        sigma_ = _ising_step(sigma_,T)\n",
    "\n",
    "        if i >= 5000:\n",
    "            energy = GetEnergy(sigma_)\n",
    "            magnetization = GetMagnetization(sigma_)\n",
    "            Energy.append(energy)\n",
    "            Energy2.append(energy**2)\n",
    "            Magnetization.append(magnetization)\n",
    "            \n",
    "    e = np.average(Energy)\n",
    "    e2 = np.average(Energy2)\n",
    "    m = np.average(Magnetization)\n",
    "\n",
    "    cv = (e2 - e**2)/T**2   \n",
    "    \n",
    "    return e/float(M*N),np.abs(m),cv/float(M*N)   "
   ]
  },
  {
   "cell_type": "code",
   "execution_count": 16,
   "metadata": {},
   "outputs": [
    {
     "name": "stderr",
     "output_type": "stream",
     "text": [
      "100%|██████████| 20000/20000 [00:09<00:00, 2180.57it/s]\n",
      "  2%|▏         | 317/20000 [00:00<00:06, 3163.30it/s]"
     ]
    },
    {
     "name": "stdout",
     "output_type": "stream",
     "text": [
      "(1.0, -1.9975999999999998, 0.9994, 0.018624000000054364)\n"
     ]
    },
    {
     "name": "stderr",
     "output_type": "stream",
     "text": [
      "100%|██████████| 20000/20000 [00:08<00:00, 2326.95it/s]\n",
      "  2%|▏         | 307/20000 [00:00<00:06, 3066.84it/s]"
     ]
    },
    {
     "name": "stdout",
     "output_type": "stream",
     "text": [
      "(1.1, -1.9865573333333333, 0.9965586666666667, 0.097718020348953)\n"
     ]
    },
    {
     "name": "stderr",
     "output_type": "stream",
     "text": [
      "100%|██████████| 20000/20000 [00:08<00:00, 2276.87it/s]\n",
      "  1%|▏         | 285/20000 [00:00<00:06, 2842.87it/s]"
     ]
    },
    {
     "name": "stdout",
     "output_type": "stream",
     "text": [
      "(1.2000000000000002, -1.9872586666666665, 0.9966893333333333, 0.06831146469135596)\n"
     ]
    },
    {
     "name": "stderr",
     "output_type": "stream",
     "text": [
      "100%|██████████| 20000/20000 [00:08<00:00, 2272.92it/s]\n",
      "  1%|▏         | 293/20000 [00:00<00:06, 2927.95it/s]"
     ]
    },
    {
     "name": "stdout",
     "output_type": "stream",
     "text": [
      "(1.3000000000000003, -1.9724186666666665, 0.9927, 0.15162544683767679)\n"
     ]
    },
    {
     "name": "stderr",
     "output_type": "stream",
     "text": [
      "100%|██████████| 20000/20000 [00:09<00:00, 2011.93it/s]\n",
      "  2%|▏         | 318/20000 [00:00<00:06, 3173.68it/s]"
     ]
    },
    {
     "name": "stdout",
     "output_type": "stream",
     "text": [
      "(1.4000000000000004, -1.965288, 0.9904186666666668, 0.12387944163269907)\n"
     ]
    },
    {
     "name": "stderr",
     "output_type": "stream",
     "text": [
      "100%|██████████| 20000/20000 [00:09<00:00, 2190.33it/s]\n",
      "  2%|▏         | 321/20000 [00:00<00:06, 3206.64it/s]"
     ]
    },
    {
     "name": "stdout",
     "output_type": "stream",
     "text": [
      "(1.5000000000000004, -1.9625546666666667, 0.9900666666666668, 0.12649631162465078)\n"
     ]
    },
    {
     "name": "stderr",
     "output_type": "stream",
     "text": [
      "100%|██████████| 20000/20000 [00:08<00:00, 2314.33it/s]\n",
      "  2%|▏         | 321/20000 [00:00<00:06, 3204.56it/s]"
     ]
    },
    {
     "name": "stdout",
     "output_type": "stream",
     "text": [
      "(1.6000000000000005, -1.9286426666666667, 0.9789413333333334, 0.3401780330555366)\n"
     ]
    },
    {
     "name": "stderr",
     "output_type": "stream",
     "text": [
      "100%|██████████| 20000/20000 [00:08<00:00, 2340.10it/s]\n",
      "  2%|▏         | 333/20000 [00:00<00:05, 3323.26it/s]"
     ]
    },
    {
     "name": "stdout",
     "output_type": "stream",
     "text": [
      "(1.7000000000000006, -1.9175173333333333, 0.9770080000000001, 0.21166215800075672)\n"
     ]
    },
    {
     "name": "stderr",
     "output_type": "stream",
     "text": [
      "100%|██████████| 20000/20000 [00:08<00:00, 2318.51it/s]\n",
      "  1%|▏         | 298/20000 [00:00<00:06, 2978.87it/s]"
     ]
    },
    {
     "name": "stdout",
     "output_type": "stream",
     "text": [
      "(1.8000000000000007, -1.8614453333333332, 0.9570653333333334, 0.48573634809329114)\n"
     ]
    },
    {
     "name": "stderr",
     "output_type": "stream",
     "text": [
      "100%|██████████| 20000/20000 [00:08<00:00, 2305.58it/s]\n",
      "  1%|▏         | 268/20000 [00:00<00:07, 2672.52it/s]"
     ]
    },
    {
     "name": "stdout",
     "output_type": "stream",
     "text": [
      "(1.9000000000000008, -1.7675226666666666, 0.9219026666666668, 0.7997827189165961)\n"
     ]
    },
    {
     "name": "stderr",
     "output_type": "stream",
     "text": [
      "100%|██████████| 20000/20000 [00:09<00:00, 2159.78it/s]\n",
      "  2%|▏         | 320/20000 [00:00<00:06, 3198.05it/s]"
     ]
    },
    {
     "name": "stdout",
     "output_type": "stream",
     "text": [
      "(2.000000000000001, -1.785248, 0.9293760000000001, 0.619738129066672)\n"
     ]
    },
    {
     "name": "stderr",
     "output_type": "stream",
     "text": [
      "100%|██████████| 20000/20000 [00:08<00:00, 2311.17it/s]\n",
      "  2%|▏         | 319/20000 [00:00<00:06, 3186.85it/s]"
     ]
    },
    {
     "name": "stdout",
     "output_type": "stream",
     "text": [
      "(2.100000000000001, -1.651688, 0.8715866666666667, 0.8899973693726356)\n"
     ]
    },
    {
     "name": "stderr",
     "output_type": "stream",
     "text": [
      "100%|██████████| 20000/20000 [00:08<00:00, 2304.50it/s]\n",
      "  2%|▏         | 317/20000 [00:00<00:06, 3165.94it/s]"
     ]
    },
    {
     "name": "stdout",
     "output_type": "stream",
     "text": [
      "(2.200000000000001, -1.5697626666666666, 0.2720600000000001, 1.3350688086684974)\n"
     ]
    },
    {
     "name": "stderr",
     "output_type": "stream",
     "text": [
      "100%|██████████| 20000/20000 [00:08<00:00, 2338.92it/s]\n",
      "  2%|▏         | 325/20000 [00:00<00:06, 3244.46it/s]"
     ]
    },
    {
     "name": "stdout",
     "output_type": "stream",
     "text": [
      "(2.300000000000001, -1.4576133333333334, 0.2046453333333334, 1.6195883520268755)\n"
     ]
    },
    {
     "name": "stderr",
     "output_type": "stream",
     "text": [
      "100%|██████████| 20000/20000 [00:08<00:00, 2354.15it/s]\n",
      "  2%|▏         | 312/20000 [00:00<00:06, 3114.30it/s]"
     ]
    },
    {
     "name": "stdout",
     "output_type": "stream",
     "text": [
      "(2.4000000000000012, -1.2876026666666667, 0.31388000000000005, 1.1484576295061706)\n"
     ]
    },
    {
     "name": "stderr",
     "output_type": "stream",
     "text": [
      "100%|██████████| 20000/20000 [00:08<00:00, 2289.61it/s]\n",
      "  2%|▏         | 302/20000 [00:00<00:06, 3017.92it/s]"
     ]
    },
    {
     "name": "stdout",
     "output_type": "stream",
     "text": [
      "(2.5000000000000013, -1.1598773333333334, 0.43301466666666666, 0.9754655725795531)\n"
     ]
    },
    {
     "name": "stderr",
     "output_type": "stream",
     "text": [
      "100%|██████████| 20000/20000 [00:08<00:00, 2263.72it/s]\n",
      "  1%|▏         | 265/20000 [00:00<00:07, 2645.50it/s]"
     ]
    },
    {
     "name": "stdout",
     "output_type": "stream",
     "text": [
      "(2.6000000000000014, -0.9843386666666666, 0.21489733333333333, 0.667098263879028)\n"
     ]
    },
    {
     "name": "stderr",
     "output_type": "stream",
     "text": [
      "100%|██████████| 20000/20000 [00:08<00:00, 2248.41it/s]\n",
      "  2%|▏         | 326/20000 [00:00<00:06, 3257.13it/s]"
     ]
    },
    {
     "name": "stdout",
     "output_type": "stream",
     "text": [
      "(2.7000000000000015, -0.9909893333333334, 0.23056533333333334, 0.5976725361621693)\n"
     ]
    },
    {
     "name": "stderr",
     "output_type": "stream",
     "text": [
      "100%|██████████| 20000/20000 [00:08<00:00, 2327.86it/s]\n",
      "  1%|▏         | 299/20000 [00:00<00:06, 2982.00it/s]"
     ]
    },
    {
     "name": "stdout",
     "output_type": "stream",
     "text": [
      "(2.8000000000000016, -0.9870266666666667, 0.011079999999999987, 0.8779307732426281)\n"
     ]
    },
    {
     "name": "stderr",
     "output_type": "stream",
     "text": [
      "100%|██████████| 20000/20000 [00:08<00:00, 2335.26it/s]"
     ]
    },
    {
     "name": "stdout",
     "output_type": "stream",
     "text": [
      "(2.9000000000000017, -0.9439493333333333, 0.15558133333333335, 0.6425541351512762)\n"
     ]
    },
    {
     "name": "stderr",
     "output_type": "stream",
     "text": [
      "\n"
     ]
    }
   ],
   "source": [
    "T = np.arange(1.0,3.0,0.1)\n",
    "\n",
    "Energy = np.zeros(len(T))\n",
    "Mag = np.zeros(len(T))\n",
    "Cv = np.zeros(len(T))\n",
    "\n",
    "for t in range(len(T)):\n",
    "    Energy[t], Mag[t], Cv[t] = GetValues(T[t])\n",
    "    print(T[t], Energy[t], abs(Mag[t]), Cv[t])"
   ]
  },
  {
   "cell_type": "code",
   "execution_count": 17,
   "metadata": {},
   "outputs": [
    {
     "data": {
      "text/plain": [
       "<matplotlib.collections.PathCollection at 0x7fc8f4831ad0>"
      ]
     },
     "execution_count": 17,
     "metadata": {},
     "output_type": "execute_result"
    },
    {
     "data": {
      "image/png": "[encoded data removed]",
      "text/plain": [
       "<Figure size 432x288 with 1 Axes>"
      ]
     },
     "metadata": {
      "needs_background": "light"
     },
     "output_type": "display_data"
    }
   ],
   "source": [
    "plt.figure()\n",
    "plt.scatter(T,Energy)"
   ]
  },
  {
   "cell_type": "code",
   "execution_count": 18,
   "metadata": {},
   "outputs": [
    {
     "data": {
      "text/plain": [
       "<matplotlib.collections.PathCollection at 0x7fc8f47ae750>"
      ]
     },
     "execution_count": 18,
     "metadata": {},
     "output_type": "execute_result"
    },
    {
     "data": {
      "image/png": "[encoded data removed]",
      "text/plain": [
       "<Figure size 432x288 with 1 Axes>"
      ]
     },
     "metadata": {
      "needs_background": "light"
     },
     "output_type": "display_data"
    }
   ],
   "source": [
    "plt.figure()\n",
    "plt.scatter(T,Mag)"
   ]
  },
  {
   "cell_type": "code",
   "execution_count": 19,
   "metadata": {},
   "outputs": [
    {
     "data": {
      "text/plain": [
       "<matplotlib.collections.PathCollection at 0x7fc8f472d490>"
      ]
     },
     "execution_count": 19,
     "metadata": {},
     "output_type": "execute_result"
    },
    {
     "data": {
      "image/png": "[encoded data removed]",
      "text/plain": [
       "<Figure size 432x288 with 1 Axes>"
      ]
     },
     "metadata": {
      "needs_background": "light"
     },
     "output_type": "display_data"
    }
   ],
   "source": [
    "plt.figure()\n",
    "plt.scatter(T,Cv)"
   ]
  },
  {
   "cell_type": "code",
   "execution_count": null,
   "metadata": {},
   "outputs": [],
   "source": []
  }
 ],
 "metadata": {
  "kernelspec": {
   "display_name": "Python 3",
   "language": "python",
   "name": "python3"
  },
  "language_info": {
   "codemirror_mode": {
    "name": "ipython",
    "version": 2
   },
   "file_extension": ".py",
   "mimetype": "text/x-python",
   "name": "python",
   "nbconvert_exporter": "python",
   "pygments_lexer": "ipython2",
   "version": "2.7.16"
  }
 },
 "nbformat": 4,
 "nbformat_minor": 2
}
