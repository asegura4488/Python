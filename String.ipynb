{
 "cells": [
  {
   "cell_type": "code",
   "execution_count": 1,
   "metadata": {
    "collapsed": true
   },
   "outputs": [],
   "source": [
    "import numpy as np\n",
    "import matplotlib.pyplot as plt\n",
    "import pandas as pd\n",
    "%matplotlib inline"
   ]
  },
  {
   "cell_type": "code",
   "execution_count": 2,
   "metadata": {
    "collapsed": true
   },
   "outputs": [],
   "source": [
    "### Condiones del paso\n",
    "h = 0.5\n",
    "xmin = 10.\n",
    "xmax = 1000."
   ]
  },
  {
   "cell_type": "code",
   "execution_count": 3,
   "metadata": {},
   "outputs": [
    {
     "name": "stdout",
     "output_type": "stream",
     "text": [
      "1980.0  \n",
      "  [   10.     10.5    11.  ...,   999.    999.5  1000. ]\n"
     ]
    }
   ],
   "source": [
    "Npoints = (xmax-xmin)/h\n",
    "x_ = np.linspace(xmin, xmax, int(Npoints)+1)\n",
    "print(Npoints, \" \\n \", x_)"
   ]
  },
  {
   "cell_type": "markdown",
   "metadata": {
    "collapsed": true
   },
   "source": [
    "## 2D Equilibrium:\n",
    "### $\\frac{d}{ds}( T \\frac{dx}{ds} ) =  - f_{x}$,  $ \\ \\frac{d}{ds}( T \\frac{dy}{ds} ) =  - f_{y}$. \n",
    "### $s$ is the arc length, the force only depend on the weight of the string."
   ]
  },
  {
   "cell_type": "code",
   "execution_count": 4,
   "metadata": {
    "collapsed": true
   },
   "outputs": [],
   "source": [
    "## Boundary conditions\n",
    "T0 = 0.\n",
    "\n",
    "y1 = 180.  # height of the first point \n",
    "y2 = 120.  # height of the second point\n",
    "c = 90.    # height of the minimum\n",
    "\n",
    "h1 = y1-c\n",
    "h2 = y2-c\n",
    "Xt = 300.  # width of the chain"
   ]
  },
  {
   "cell_type": "markdown",
   "metadata": {},
   "source": [
    "## $y(x) = c cosh(\\frac{x}{c}) $\n",
    "### $c(cosh^{-1}(1+\\frac{h1}{c}) + cosh^{-1}(1+\\frac{h2}{c}) ) - x_{t} = 0$ "
   ]
  },
  {
   "cell_type": "code",
   "execution_count": 5,
   "metadata": {
    "collapsed": true
   },
   "outputs": [],
   "source": [
    "# Functions for the parameter \n",
    "def F1(x):\n",
    "    f = x*( np.arccosh(1.+ h1/x) + np.arccosh(1.+ h2/x) ) - Xt \n",
    "    if(f.any() != 0):\n",
    "        return f\n",
    "    else:\n",
    "        return -1\n",
    "\n",
    "def dF1(x):\n",
    "    df = np.arccosh(1.+ h1/x) + np.arccosh(1.+ h2/x) - \\\n",
    "    (1./x)*( (h1)/( np.sqrt( (1+h1/x)**2 -1 ) ) + (h2)/( np.sqrt( (1+h2/x)**2 -1 ) ) )\n",
    "    if(df != 0):\n",
    "        return df\n",
    "    else:\n",
    "        return -1"
   ]
  },
  {
   "cell_type": "code",
   "execution_count": 6,
   "metadata": {},
   "outputs": [
    {
     "name": "stdout",
     "output_type": "stream",
     "text": [
      "83.8508493013 83.8508493013 0.88074062358\n",
      "181.439041289 181.439041289 0.537856633802\n",
      "210.130975668 210.130975668 0.13654309788\n",
      "211.303770107 211.303770107 0.00555027692494\n",
      "211.305459155 211.305459155 7.99339613657e-06\n",
      "211.305459155\n"
     ]
    }
   ],
   "source": [
    "## Newton Method\n",
    "\n",
    "x=10.\n",
    "x1=0.\n",
    "error = 1.0\n",
    "\n",
    "while(error > 0.0001):\n",
    "    x1 = x - F1(x)/dF1(x)\n",
    "    error = abs(x1-x)/abs(x1)\n",
    "    x = x1\n",
    "    print(x, x1, error)\n",
    "\n",
    "c=x\n",
    "print(c)"
   ]
  },
  {
   "cell_type": "code",
   "execution_count": 7,
   "metadata": {},
   "outputs": [
    {
     "data": {
      "image/png": "[encoded data removed]",
      "text/plain": [
       "<matplotlib.figure.Figure at 0x7fde73d112b0>"
      ]
     },
     "metadata": {},
     "output_type": "display_data"
    }
   ],
   "source": [
    "# Visualizing the root \n",
    "\n",
    "ytest = F1(x_)\n",
    "#print(ytest)\n",
    "fig = plt.figure()\n",
    "plt.plot(x_, ytest, label=\"\")\n",
    "plt.xlabel('$c$')\n",
    "plt.ylabel('$F(c)$')\n",
    "plt.legend()\n",
    "plt.show()"
   ]
  },
  {
   "cell_type": "code",
   "execution_count": 8,
   "metadata": {},
   "outputs": [
    {
     "name": "stdout",
     "output_type": "stream",
     "text": [
      "15 211.305459155 3169.58188733\n"
     ]
    }
   ],
   "source": [
    "### linear weight density \n",
    "rho = 15\n",
    "T0 = rho*c\n",
    "\n",
    "print(rho, c, T0)"
   ]
  },
  {
   "cell_type": "markdown",
   "metadata": {},
   "source": [
    "## Estimating the Shape \n",
    "### $ y(x) = \\frac{T_{0}}{\\gamma} cosh( \\frac{\\gamma}{T_{0}} x ) $, scaled by $c$   \n",
    "### $ x_{min} = - c\\times cosh^{-1}(1+\\frac{h1}{c})$\n",
    "### $ x_{max} = + c\\times cosh^{-1}(1+\\frac{h2}{c})$"
   ]
  },
  {
   "cell_type": "code",
   "execution_count": 9,
   "metadata": {},
   "outputs": [
    {
     "name": "stdout",
     "output_type": "stream",
     "text": [
      "-188.693252541 111.306747457 211.305459155\n"
     ]
    },
    {
     "data": {
      "image/png": "[encoded data removed]",
      "text/plain": [
       "<matplotlib.figure.Figure at 0x7fde6c7cb2b0>"
      ]
     },
     "metadata": {},
     "output_type": "display_data"
    }
   ],
   "source": [
    "def Shape(x):\n",
    "    y = (T0/rho)*np.cosh( (rho/T0)*(x) ) - T0/rho \n",
    "    return y\n",
    "\n",
    "h = 0.5\n",
    "xmin = - c*np.arccosh( 1 + h1/c )\n",
    "xmax = + c*np.arccosh( 1 + h2/c )\n",
    "\n",
    "print(xmin, xmax, T0/rho)\n",
    "\n",
    "Npoints = (xmax-xmin)/h\n",
    "x1_ = np.linspace(xmin, xmax, int(Npoints)+1)\n",
    "\n",
    "\n",
    "y = Shape(x1_)\n",
    "\n",
    "fig = plt.figure()\n",
    "plt.plot(x1_, y, label=\"Shape of the chain\")\n",
    "plt.xlabel('$x[m]$')\n",
    "plt.ylabel('$y[m]$')\n",
    "plt.legend()\n",
    "plt.show()"
   ]
  },
  {
   "cell_type": "markdown",
   "metadata": {},
   "source": [
    "## Estimating the Tension \n",
    "### $ T(x) = T_{0} cosh( \\frac{\\gamma}{T_{0}}x ) $"
   ]
  },
  {
   "cell_type": "code",
   "execution_count": 18,
   "metadata": {},
   "outputs": [
    {
     "data": {
      "image/png": "[encoded data removed]",
      "text/plain": [
       "<matplotlib.figure.Figure at 0x7fde6c5d5ef0>"
      ]
     },
     "metadata": {},
     "output_type": "display_data"
    },
    {
     "name": "stdout",
     "output_type": "stream",
     "text": [
      "4519.58188733\n"
     ]
    }
   ],
   "source": [
    "def Tension(x):\n",
    "    y = T0*np.cosh( (rho/T0)*x )\n",
    "    return y\n",
    "\n",
    "y = Tension(x1_)\n",
    "\n",
    "fig = plt.figure()\n",
    "plt.plot(x1_, y, label=\"Tension\")\n",
    "plt.xlabel('$x[m]$')\n",
    "plt.ylabel('$T[N]$')\n",
    "plt.legend()\n",
    "plt.show()\n",
    "\n",
    "print( y[0] )"
   ]
  },
  {
   "cell_type": "markdown",
   "metadata": {
    "collapsed": true
   },
   "source": [
    "## Estimating the Arc of length\n",
    "$ s(x) = \\frac{T_{0}}{\\gamma} senh( \\frac{\\gamma}{T_{0}}x ) $"
   ]
  },
  {
   "cell_type": "code",
   "execution_count": 11,
   "metadata": {},
   "outputs": [
    {
     "data": {
      "image/png": "[encoded data removed]",
      "text/plain": [
       "<matplotlib.figure.Figure at 0x7fde6c6a6080>"
      ]
     },
     "metadata": {},
     "output_type": "display_data"
    },
    {
     "name": "stdout",
     "output_type": "stream",
     "text": [
      "331.316636288\n"
     ]
    }
   ],
   "source": [
    "def Arco(x):\n",
    "    y = (T0/rho)*np.sinh( (rho/T0)*x )\n",
    "    return y\n",
    "\n",
    "y = Arco(x1_)\n",
    "#print(y)\n",
    "\n",
    "fig = plt.figure()\n",
    "plt.plot(x1_, y, label=\"Arco\")\n",
    "plt.xlabel('$x[m]$')\n",
    "plt.ylabel('$s[m]$')\n",
    "plt.legend()\n",
    "plt.show()\n",
    "\n",
    "s0 = abs(y[0])\n",
    "sf = abs(y[-1])\n",
    "\n",
    "length = s0 + sf\n",
    "print(length)\n"
   ]
  },
  {
   "cell_type": "markdown",
   "metadata": {},
   "source": [
    "## Equilibrium 1D:\n",
    "### $\\vec{T}(x)= \\frac{mg}{L}x \\hat{i}$ "
   ]
  },
  {
   "cell_type": "code",
   "execution_count": 12,
   "metadata": {
    "collapsed": true
   },
   "outputs": [],
   "source": [
    "def StraigthString(x):\n",
    "    y = rho*x\n",
    "    return y"
   ]
  },
  {
   "cell_type": "code",
   "execution_count": 19,
   "metadata": {},
   "outputs": [
    {
     "name": "stdout",
     "output_type": "stream",
     "text": [
      "0.0 331.316636288\n"
     ]
    },
    {
     "data": {
      "image/png": "[encoded data removed]",
      "text/plain": [
       "<matplotlib.figure.Figure at 0x7fde6c6fa438>"
      ]
     },
     "metadata": {},
     "output_type": "display_data"
    },
    {
     "name": "stdout",
     "output_type": "stream",
     "text": [
      "4969.74954431\n"
     ]
    }
   ],
   "source": [
    "h = 0.5\n",
    "xmin = 0.\n",
    "xmax = length\n",
    "\n",
    "print(xmin, xmax)\n",
    "\n",
    "Npoints = (xmax-xmin)/h\n",
    "x2_ = np.linspace(xmin, xmax, int(Npoints)+1)\n",
    "\n",
    "\n",
    "straigthy = StraigthString(x2_)\n",
    "\n",
    "\n",
    "fig = plt.figure()\n",
    "plt.plot(x2_, straigthy, label=\"\")\n",
    "plt.ylabel('$T[N]$')\n",
    "plt.xlabel('$y[m]$')\n",
    "plt.legend()\n",
    "plt.show()\n",
    "\n",
    "print( straigthy[-1] )"
   ]
  },
  {
   "cell_type": "code",
   "execution_count": null,
   "metadata": {
    "collapsed": true
   },
   "outputs": [],
   "source": []
  }
 ],
 "metadata": {
  "kernelspec": {
   "display_name": "Python 3",
   "language": "python",
   "name": "python3"
  },
  "language_info": {
   "codemirror_mode": {
    "name": "ipython",
    "version": 3
   },
   "file_extension": ".py",
   "mimetype": "text/x-python",
   "name": "python",
   "nbconvert_exporter": "python",
   "pygments_lexer": "ipython3",
   "version": "3.6.3"
  }
 },
 "nbformat": 4,
 "nbformat_minor": 2
}
