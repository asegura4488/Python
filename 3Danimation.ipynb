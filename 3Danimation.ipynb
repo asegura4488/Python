{
 "cells": [
  {
   "cell_type": "code",
   "execution_count": 1,
   "metadata": {},
   "outputs": [],
   "source": [
    "import numpy as np\n",
    "import matplotlib.pyplot as plt\n",
    "from mpl_toolkits.mplot3d import axes3d\n",
    "from matplotlib import cm\n",
    "from matplotlib import rc"
   ]
  },
  {
   "cell_type": "code",
   "execution_count": 2,
   "metadata": {},
   "outputs": [],
   "source": [
    "x = np.linspace(-np.pi,np.pi,50)\n",
    "y = np.linspace(-np.pi,np.pi,50)"
   ]
  },
  {
   "cell_type": "code",
   "execution_count": 3,
   "metadata": {},
   "outputs": [],
   "source": [
    "def f(x,y):\n",
    "    return np.sin(np.pi * x)*np.cos(np.pi * y)"
   ]
  },
  {
   "cell_type": "code",
   "execution_count": 4,
   "metadata": {},
   "outputs": [
    {
     "name": "stdout",
     "output_type": "stream",
     "text": [
      "[[-0.38842661 -0.42992201 -0.40258771 ... -0.40258771 -0.42992201\n",
      "  -0.38842661]\n",
      " [-0.03788851 -0.04193612 -0.03926984 ... -0.03926984 -0.04193612\n",
      "  -0.03788851]\n",
      " [ 0.31871546  0.35276366  0.33033506 ...  0.33033506  0.35276366\n",
      "   0.31871546]\n",
      " ...\n",
      " [-0.31871546 -0.35276366 -0.33033506 ... -0.33033506 -0.35276366\n",
      "  -0.31871546]\n",
      " [ 0.03788851  0.04193612  0.03926984 ...  0.03926984  0.04193612\n",
      "   0.03788851]\n",
      " [ 0.38842661  0.42992201  0.40258771 ...  0.40258771  0.42992201\n",
      "   0.38842661]]\n"
     ]
    }
   ],
   "source": [
    "z = np.zeros((len(x),len(y)))\n",
    "\n",
    "for i in range(len(x)):\n",
    "    for j in range(len(y)):\n",
    "        z[i,j] = f(x[i],y[j])\n",
    "\n",
    "print(z)\n",
    "X, Y  = np.meshgrid(x,y)"
   ]
  },
  {
   "cell_type": "code",
   "execution_count": 5,
   "metadata": {},
   "outputs": [],
   "source": [
    "azimut = np.linspace(0,360,30)\n",
    "fig_id = 0\n",
    "filelist = []\n",
    "\n",
    "for az in azimut:\n",
    "    \n",
    "\n",
    "    fig = plt.figure(figsize=(6,6))\n",
    "    ax = fig.add_subplot(111, projection='3d')\n",
    "    ax.plot_surface(X, Y, z, cmap=cm.coolwarm,linewidth=0, antialiased=False)\n",
    "    \n",
    "    ax.view_init(40,az)\n",
    "    \n",
    "    filename=(\"Figures/{:03d}.png\".format(fig_id))\n",
    "    fig.savefig(filename)\n",
    "    filelist.append(filename)\n",
    "    fig_id +=1\n",
    "    #plt.show()\n",
    "    plt.close()\n"
   ]
  },
  {
   "cell_type": "code",
   "execution_count": 6,
   "metadata": {},
   "outputs": [],
   "source": [
    "!convert Figures/* -loop 0 -delay 20 3DAnimation.gif"
   ]
  },
  {
   "cell_type": "code",
   "execution_count": null,
   "metadata": {},
   "outputs": [],
   "source": []
  }
 ],
 "metadata": {
  "kernelspec": {
   "display_name": "Python 3",
   "language": "python",
   "name": "python3"
  },
  "language_info": {
   "codemirror_mode": {
    "name": "ipython",
    "version": 2
   },
   "file_extension": ".py",
   "mimetype": "text/x-python",
   "name": "python",
   "nbconvert_exporter": "python",
   "pygments_lexer": "ipython2",
   "version": "2.7.16"
  }
 },
 "nbformat": 4,
 "nbformat_minor": 2
}
