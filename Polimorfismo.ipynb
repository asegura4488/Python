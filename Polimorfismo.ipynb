{
 "cells": [
  {
   "cell_type": "code",
   "execution_count": 10,
   "metadata": {},
   "outputs": [],
   "source": [
    "class Gato():\n",
    "    def Speak(self):\n",
    "        print(\"Miau\")\n",
    "class Perro():\n",
    "    def Speak(self):\n",
    "        print(\"Guau\")\n",
    "        \n",
    "        \n",
    "def Listento(Animal):\n",
    "    Animal.Speak()"
   ]
  },
  {
   "cell_type": "code",
   "execution_count": 12,
   "metadata": {},
   "outputs": [
    {
     "name": "stdout",
     "output_type": "stream",
     "text": [
      "Miau\n",
      "Guau\n"
     ]
    }
   ],
   "source": [
    "if __name__ == '__main__':\n",
    "    g = Gato()\n",
    "    p = Perro()\n",
    "    Listento(g)\n",
    "    Listento(p)"
   ]
  },
  {
   "cell_type": "code",
   "execution_count": null,
   "metadata": {},
   "outputs": [],
   "source": []
  },
  {
   "cell_type": "code",
   "execution_count": null,
   "metadata": {},
   "outputs": [],
   "source": []
  },
  {
   "cell_type": "code",
   "execution_count": null,
   "metadata": {},
   "outputs": [],
   "source": [
    "class Person():\n",
    "    \n",
    "    def __init__(self):\n",
    "        self.cedula = 1032442129\n",
    "    def message(self):\n",
    "        print('Message from Person class')\n"
   ]
  },
  {
   "cell_type": "code",
   "execution_count": 2,
   "metadata": {},
   "outputs": [],
   "source": [
    "class Student(Person):\n",
    "    \n",
    "    def __init__(self):\n",
    "        self.__especialista = 1\n",
    "    def message(self):\n",
    "        print('Message from Student class')"
   ]
  },
  {
   "cell_type": "code",
   "execution_count": 4,
   "metadata": {},
   "outputs": [
    {
     "name": "stdout",
     "output_type": "stream",
     "text": [
      "Message from Student class\n"
     ]
    }
   ],
   "source": [
    "Student1 = Student()\n",
    "Student1.message()"
   ]
  },
  {
   "cell_type": "markdown",
   "metadata": {},
   "source": [
    "# Overriding Methods"
   ]
  },
  {
   "cell_type": "code",
   "execution_count": 7,
   "metadata": {},
   "outputs": [],
   "source": [
    "class Point:\n",
    "    def __init__(self, x = 0., y=0.):\n",
    "        self.x = x\n",
    "        self.y = y\n",
    "    def __add__(self, Other):\n",
    "        x = self.x + Other.x\n",
    "        y = self.y + Other.y\n",
    "        \n",
    "        return x,y"
   ]
  },
  {
   "cell_type": "code",
   "execution_count": 8,
   "metadata": {},
   "outputs": [
    {
     "name": "stdout",
     "output_type": "stream",
     "text": [
      "(6.0, 4.0)\n"
     ]
    }
   ],
   "source": [
    "Point1 = Point(4.,3.)\n",
    "Point2 = Point(2.,1.)\n",
    "\n",
    "print Point1+Point2"
   ]
  },
  {
   "cell_type": "code",
   "execution_count": null,
   "metadata": {},
   "outputs": [],
   "source": []
  }
 ],
 "metadata": {
  "kernelspec": {
   "display_name": "Python 3",
   "language": "python",
   "name": "python3"
  },
  "language_info": {
   "codemirror_mode": {
    "name": "ipython",
    "version": 2
   },
   "file_extension": ".py",
   "mimetype": "text/x-python",
   "name": "python",
   "nbconvert_exporter": "python",
   "pygments_lexer": "ipython2",
   "version": "2.7.16"
  }
 },
 "nbformat": 4,
 "nbformat_minor": 2
}
